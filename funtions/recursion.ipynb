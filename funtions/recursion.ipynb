{
 "cells": [
  {
   "cell_type": "markdown",
   "id": "7c88b7da",
   "metadata": {},
   "source": [
    "recursion "
   ]
  },
  {
   "cell_type": "code",
   "execution_count": 1,
   "id": "0a44a9e2",
   "metadata": {},
   "outputs": [],
   "source": [
    "def fib(n):\n",
    "    # base case\n",
    "    if n == 0 :\n",
    "        return 0\n",
    "    elif n==1:\n",
    "        return 1\n",
    "    else:\n",
    "        # recursive case\n",
    "        return fib(n-1) + fib(n-2)"
   ]
  },
  {
   "cell_type": "code",
   "execution_count": 4,
   "id": "7f299737",
   "metadata": {},
   "outputs": [
    {
     "data": {
      "text/plain": [
       "17711"
      ]
     },
     "execution_count": 4,
     "metadata": {},
     "output_type": "execute_result"
    }
   ],
   "source": [
    "fib (22)"
   ]
  },
  {
   "cell_type": "markdown",
   "id": "a6a2b189",
   "metadata": {},
   "source": [
    "memoizing the recursive algorithm"
   ]
  },
  {
   "cell_type": "code",
   "execution_count": 6,
   "id": "f19d9aa1",
   "metadata": {},
   "outputs": [],
   "source": [
    "cache = {0 :0, 1 :1}\n",
    "\n",
    "def fib(n):\n",
    "    # base case\n",
    "    if n in cache:\n",
    "        return cache[n]\n",
    "    else:\n",
    "        result=fib(n-1) + fib(n-2)\n",
    "        cache[n] = result\n",
    "        return result"
   ]
  },
  {
   "cell_type": "code",
   "execution_count": null,
   "id": "bd8ab137",
   "metadata": {},
   "outputs": [],
   "source": []
  }
 ],
 "metadata": {
  "kernelspec": {
   "display_name": "myenv",
   "language": "python",
   "name": "python3"
  },
  "language_info": {
   "codemirror_mode": {
    "name": "ipython",
    "version": 3
   },
   "file_extension": ".py",
   "mimetype": "text/x-python",
   "name": "python",
   "nbconvert_exporter": "python",
   "pygments_lexer": "ipython3",
   "version": "3.13.5"
  }
 },
 "nbformat": 4,
 "nbformat_minor": 5
}
