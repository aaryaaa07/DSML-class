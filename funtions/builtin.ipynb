{
 "cells": [
  {
   "cell_type": "code",
   "execution_count": 2,
   "id": "6e93ab01",
   "metadata": {},
   "outputs": [
    {
     "name": "stdout",
     "output_type": "stream",
     "text": [
      "4 5\n"
     ]
    }
   ],
   "source": [
    "print(4,5)"
   ]
  },
  {
   "cell_type": "code",
   "execution_count": 5,
   "id": "124e7b09",
   "metadata": {},
   "outputs": [
    {
     "name": "stdout",
     "output_type": "stream",
     "text": [
      "4_5\n"
     ]
    }
   ],
   "source": [
    "print(4,5, sep=\"_\")"
   ]
  },
  {
   "cell_type": "code",
   "execution_count": 6,
   "id": "5d1328ae",
   "metadata": {},
   "outputs": [
    {
     "name": "stdout",
     "output_type": "stream",
     "text": [
      "4_5!"
     ]
    }
   ],
   "source": [
    "print(4,5, sep=\"_\", end=\"!\")"
   ]
  },
  {
   "cell_type": "code",
   "execution_count": 8,
   "id": "27940766",
   "metadata": {},
   "outputs": [],
   "source": [
    "name = input (\"what is your name\")"
   ]
  },
  {
   "cell_type": "code",
   "execution_count": 9,
   "id": "fedd718f",
   "metadata": {},
   "outputs": [
    {
     "data": {
      "text/plain": [
       "'aarya'"
      ]
     },
     "execution_count": 9,
     "metadata": {},
     "output_type": "execute_result"
    }
   ],
   "source": [
    "name"
   ]
  },
  {
   "cell_type": "code",
   "execution_count": null,
   "id": "ceae73b3",
   "metadata": {},
   "outputs": [],
   "source": []
  }
 ],
 "metadata": {
  "kernelspec": {
   "display_name": "myenv",
   "language": "python",
   "name": "python3"
  },
  "language_info": {
   "codemirror_mode": {
    "name": "ipython",
    "version": 3
   },
   "file_extension": ".py",
   "mimetype": "text/x-python",
   "name": "python",
   "nbconvert_exporter": "python",
   "pygments_lexer": "ipython3",
   "version": "3.13.5"
  }
 },
 "nbformat": 4,
 "nbformat_minor": 5
}
