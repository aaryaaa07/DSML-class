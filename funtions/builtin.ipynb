{
 "cells": [
  {
   "cell_type": "code",
   "execution_count": 2,
   "id": "6e93ab01",
   "metadata": {},
   "outputs": [
    {
     "name": "stdout",
     "output_type": "stream",
     "text": [
      "4 5\n"
     ]
    }
   ],
   "source": [
    "print(4,5)"
   ]
  },
  {
   "cell_type": "code",
   "execution_count": 5,
   "id": "124e7b09",
   "metadata": {},
   "outputs": [
    {
     "name": "stdout",
     "output_type": "stream",
     "text": [
      "4_5\n"
     ]
    }
   ],
   "source": [
    "print(4,5, sep=\"_\")"
   ]
  },
  {
   "cell_type": "code",
   "execution_count": 6,
   "id": "5d1328ae",
   "metadata": {},
   "outputs": [
    {
     "name": "stdout",
     "output_type": "stream",
     "text": [
      "4_5!"
     ]
    }
   ],
   "source": [
    "print(4,5, sep=\"_\", end=\"!\")"
   ]
  },
  {
   "cell_type": "code",
   "execution_count": 8,
   "id": "27940766",
   "metadata": {},
   "outputs": [],
   "source": [
    "name = input (\"what is your name\")"
   ]
  },
  {
   "cell_type": "code",
   "execution_count": 9,
   "id": "fedd718f",
   "metadata": {},
   "outputs": [
    {
     "data": {
      "text/plain": [
       "'aarya'"
      ]
     },
     "execution_count": 9,
     "metadata": {},
     "output_type": "execute_result"
    }
   ],
   "source": [
    "name"
   ]
  },
  {
   "cell_type": "markdown",
   "id": "06e6c8fa",
   "metadata": {},
   "source": [
    "open function"
   ]
  },
  {
   "cell_type": "code",
   "execution_count": 9,
   "id": "23108409",
   "metadata": {},
   "outputs": [],
   "source": [
    "file = open(\"messege.txt\", mode = \"w\")\n",
    "\n",
    "(file.write(\"welcome tp DSML class \"))\n",
    "\n",
    "file.close()"
   ]
  },
  {
   "cell_type": "code",
   "execution_count": 10,
   "id": "03d5ebb6",
   "metadata": {},
   "outputs": [
    {
     "name": "stdout",
     "output_type": "stream",
     "text": [
      "welcome tp DSML class \n"
     ]
    }
   ],
   "source": [
    "with open (\"messege.txt\", mode =\"r+\") as file :\n",
    "    print(file.read())\n",
    "    file.write(\"this is first messege \\n\")"
   ]
  },
  {
   "cell_type": "code",
   "execution_count": 11,
   "id": "272e8246",
   "metadata": {},
   "outputs": [
    {
     "name": "stdout",
     "output_type": "stream",
     "text": [
      "\n"
     ]
    }
   ],
   "source": [
    "with open (\"messege.txt\", mode =\"w+\") as file :\n",
    "    print(file.read())\n",
    "    file.write(\"in the beginning \\n\")"
   ]
  },
  {
   "cell_type": "markdown",
   "id": "72f8a519",
   "metadata": {},
   "source": [
    "dir()"
   ]
  },
  {
   "cell_type": "code",
   "execution_count": 12,
   "id": "7e8153e1",
   "metadata": {},
   "outputs": [],
   "source": [
    "x = \"ram\""
   ]
  },
  {
   "cell_type": "code",
   "execution_count": 13,
   "id": "a4bebada",
   "metadata": {},
   "outputs": [
    {
     "data": {
      "text/plain": [
       "['__add__',\n",
       " '__class__',\n",
       " '__contains__',\n",
       " '__delattr__',\n",
       " '__dir__',\n",
       " '__doc__',\n",
       " '__eq__',\n",
       " '__format__',\n",
       " '__ge__',\n",
       " '__getattribute__',\n",
       " '__getitem__',\n",
       " '__getnewargs__',\n",
       " '__getstate__',\n",
       " '__gt__',\n",
       " '__hash__',\n",
       " '__init__',\n",
       " '__init_subclass__',\n",
       " '__iter__',\n",
       " '__le__',\n",
       " '__len__',\n",
       " '__lt__',\n",
       " '__mod__',\n",
       " '__mul__',\n",
       " '__ne__',\n",
       " '__new__',\n",
       " '__reduce__',\n",
       " '__reduce_ex__',\n",
       " '__repr__',\n",
       " '__rmod__',\n",
       " '__rmul__',\n",
       " '__setattr__',\n",
       " '__sizeof__',\n",
       " '__str__',\n",
       " '__subclasshook__',\n",
       " 'capitalize',\n",
       " 'casefold',\n",
       " 'center',\n",
       " 'count',\n",
       " 'encode',\n",
       " 'endswith',\n",
       " 'expandtabs',\n",
       " 'find',\n",
       " 'format',\n",
       " 'format_map',\n",
       " 'index',\n",
       " 'isalnum',\n",
       " 'isalpha',\n",
       " 'isascii',\n",
       " 'isdecimal',\n",
       " 'isdigit',\n",
       " 'isidentifier',\n",
       " 'islower',\n",
       " 'isnumeric',\n",
       " 'isprintable',\n",
       " 'isspace',\n",
       " 'istitle',\n",
       " 'isupper',\n",
       " 'join',\n",
       " 'ljust',\n",
       " 'lower',\n",
       " 'lstrip',\n",
       " 'maketrans',\n",
       " 'partition',\n",
       " 'removeprefix',\n",
       " 'removesuffix',\n",
       " 'replace',\n",
       " 'rfind',\n",
       " 'rindex',\n",
       " 'rjust',\n",
       " 'rpartition',\n",
       " 'rsplit',\n",
       " 'rstrip',\n",
       " 'split',\n",
       " 'splitlines',\n",
       " 'startswith',\n",
       " 'strip',\n",
       " 'swapcase',\n",
       " 'title',\n",
       " 'translate',\n",
       " 'upper',\n",
       " 'zfill']"
      ]
     },
     "execution_count": 13,
     "metadata": {},
     "output_type": "execute_result"
    }
   ],
   "source": [
    "dir (x)"
   ]
  },
  {
   "cell_type": "code",
   "execution_count": 14,
   "id": "8d7ea48f",
   "metadata": {},
   "outputs": [
    {
     "data": {
      "text/plain": [
       "'RAM'"
      ]
     },
     "execution_count": 14,
     "metadata": {},
     "output_type": "execute_result"
    }
   ],
   "source": [
    "x.upper()"
   ]
  },
  {
   "cell_type": "code",
   "execution_count": 15,
   "id": "29b28be4",
   "metadata": {},
   "outputs": [],
   "source": [
    "names = {\"alice\",\"bob\",\"narri\"}"
   ]
  },
  {
   "cell_type": "code",
   "execution_count": 16,
   "id": "00139a17",
   "metadata": {},
   "outputs": [
    {
     "data": {
      "text/plain": [
       "[(0, 'alice'), (1, 'narri'), (2, 'bob')]"
      ]
     },
     "execution_count": 16,
     "metadata": {},
     "output_type": "execute_result"
    }
   ],
   "source": [
    "list(enumerate(names))"
   ]
  },
  {
   "cell_type": "code",
   "execution_count": 17,
   "id": "63806090",
   "metadata": {},
   "outputs": [
    {
     "name": "stdout",
     "output_type": "stream",
     "text": [
      "alice : roll 0\n",
      "narri : roll 1\n",
      "bob : roll 2\n"
     ]
    }
   ],
   "source": [
    "for (i,name) in enumerate(names):\n",
    "    print (f\"{name} : roll {i}\")"
   ]
  },
  {
   "cell_type": "code",
   "execution_count": 20,
   "id": "72b29e5c",
   "metadata": {},
   "outputs": [
    {
     "name": "stdout",
     "output_type": "stream",
     "text": [
      "alice: roll 1\n",
      "narri: roll 2\n",
      "bob: roll 3\n"
     ]
    }
   ],
   "source": [
    "for (i, name) in enumerate(names, start=1):\n",
    "    print(f\"{name}: roll {i}\")"
   ]
  },
  {
   "cell_type": "code",
   "execution_count": 21,
   "id": "f4c7ee0f",
   "metadata": {},
   "outputs": [],
   "source": [
    "names=[\"hari\",\"ricky\",\"shah\",\"bob\",\"QA\"]\n",
    "score=[4,6,2,2,9]"
   ]
  },
  {
   "cell_type": "code",
   "execution_count": null,
   "id": "45f56a03",
   "metadata": {},
   "outputs": [],
   "source": []
  },
  {
   "cell_type": "code",
   "execution_count": 22,
   "id": "098d9fa0",
   "metadata": {},
   "outputs": [
    {
     "data": {
      "text/plain": [
       "[('hari', 4), ('ricky', 6), ('shah', 2), ('bob', 2), ('QA', 9)]"
      ]
     },
     "execution_count": 22,
     "metadata": {},
     "output_type": "execute_result"
    }
   ],
   "source": [
    "list(zip(names,score))"
   ]
  },
  {
   "cell_type": "code",
   "execution_count": 23,
   "id": "fb0db29a",
   "metadata": {},
   "outputs": [
    {
     "name": "stdout",
     "output_type": "stream",
     "text": [
      "hari->4\n",
      "ricky->6\n",
      "shah->2\n",
      "bob->2\n",
      "QA->9\n"
     ]
    }
   ],
   "source": [
    "for (player,s) in zip(names,score):\n",
    "    print(player,s , sep= \"->\")"
   ]
  },
  {
   "cell_type": "code",
   "execution_count": 24,
   "id": "a2191086",
   "metadata": {},
   "outputs": [],
   "source": [
    "name=\"hari\"\n",
    "list1=[2,5,6]\n",
    "set1=set(\"aeiou\")"
   ]
  },
  {
   "cell_type": "code",
   "execution_count": 25,
   "id": "1b494a8e",
   "metadata": {},
   "outputs": [
    {
     "data": {
      "text/plain": [
       "[('h', 2, 'i'), ('a', 5, 'e'), ('r', 6, 'a')]"
      ]
     },
     "execution_count": 25,
     "metadata": {},
     "output_type": "execute_result"
    }
   ],
   "source": [
    "list(zip(name, list1, set1))"
   ]
  },
  {
   "cell_type": "code",
   "execution_count": 26,
   "id": "45c3e6e3",
   "metadata": {},
   "outputs": [],
   "source": [
    "def mult(x):\n",
    "    return x * 2"
   ]
  },
  {
   "cell_type": "markdown",
   "id": "6978de04",
   "metadata": {},
   "source": [
    "map()"
   ]
  },
  {
   "cell_type": "code",
   "execution_count": 27,
   "id": "c831db14",
   "metadata": {},
   "outputs": [],
   "source": [
    "numbers = [2,4,6,8,0]\n",
    "map_obj=map(mult,numbers)"
   ]
  },
  {
   "cell_type": "code",
   "execution_count": 28,
   "id": "7085c7fe",
   "metadata": {},
   "outputs": [
    {
     "data": {
      "text/plain": [
       "[4, 8, 12, 16, 0]"
      ]
     },
     "execution_count": 28,
     "metadata": {},
     "output_type": "execute_result"
    }
   ],
   "source": [
    "[a for a in map_obj]"
   ]
  },
  {
   "cell_type": "markdown",
   "id": "e94a56c9",
   "metadata": {},
   "source": [
    "filter()"
   ]
  },
  {
   "cell_type": "code",
   "execution_count": 30,
   "id": "b42dee1c",
   "metadata": {},
   "outputs": [],
   "source": [
    "def even(num):\n",
    "    return num %2==0"
   ]
  },
  {
   "cell_type": "code",
   "execution_count": 31,
   "id": "e61a8353",
   "metadata": {},
   "outputs": [],
   "source": [
    "f_obj = filter(even, [1,3,4,6,8,9])"
   ]
  },
  {
   "cell_type": "code",
   "execution_count": 32,
   "id": "a80b05ca",
   "metadata": {},
   "outputs": [
    {
     "data": {
      "text/plain": [
       "[4, 6, 8]"
      ]
     },
     "execution_count": 32,
     "metadata": {},
     "output_type": "execute_result"
    }
   ],
   "source": [
    "list(f_obj)"
   ]
  },
  {
   "cell_type": "markdown",
   "id": "4e5a9571",
   "metadata": {},
   "source": [
    "reduce()"
   ]
  },
  {
   "cell_type": "code",
   "execution_count": 33,
   "id": "0dbd196d",
   "metadata": {},
   "outputs": [],
   "source": [
    "from functools import reduce"
   ]
  },
  {
   "cell_type": "code",
   "execution_count": 34,
   "id": "bef33245",
   "metadata": {},
   "outputs": [],
   "source": [
    "mylist = [1,2,3,4,5]"
   ]
  },
  {
   "cell_type": "code",
   "execution_count": 35,
   "id": "b402c095",
   "metadata": {},
   "outputs": [],
   "source": [
    "def add (x,y):\n",
    "    return x+y"
   ]
  },
  {
   "cell_type": "code",
   "execution_count": 36,
   "id": "6b63c48f",
   "metadata": {},
   "outputs": [],
   "source": [
    "red_obj=reduce(add, mylist)"
   ]
  },
  {
   "cell_type": "code",
   "execution_count": 37,
   "id": "c5e27812",
   "metadata": {},
   "outputs": [
    {
     "data": {
      "text/plain": [
       "15"
      ]
     },
     "execution_count": 37,
     "metadata": {},
     "output_type": "execute_result"
    }
   ],
   "source": [
    "red_obj"
   ]
  },
  {
   "cell_type": "code",
   "execution_count": 39,
   "id": "f7f0af14",
   "metadata": {},
   "outputs": [],
   "source": [
    "from functools import reduce"
   ]
  },
  {
   "cell_type": "code",
   "execution_count": 40,
   "id": "02522f53",
   "metadata": {},
   "outputs": [],
   "source": [
    "mylist = [1,2,3,4,5]"
   ]
  },
  {
   "cell_type": "code",
   "execution_count": 42,
   "id": "82ae3350",
   "metadata": {},
   "outputs": [],
   "source": [
    "def add(x,y):\n",
    "    return x*y"
   ]
  },
  {
   "cell_type": "code",
   "execution_count": 43,
   "id": "2c9c4475",
   "metadata": {},
   "outputs": [],
   "source": [
    "red_obj = reduce (add, mylist)"
   ]
  },
  {
   "cell_type": "code",
   "execution_count": 44,
   "id": "e78607a8",
   "metadata": {},
   "outputs": [
    {
     "data": {
      "text/plain": [
       "120"
      ]
     },
     "execution_count": 44,
     "metadata": {},
     "output_type": "execute_result"
    }
   ],
   "source": [
    "red_obj"
   ]
  },
  {
   "cell_type": "code",
   "execution_count": 45,
   "id": "0f7a58f5",
   "metadata": {},
   "outputs": [
    {
     "data": {
      "text/plain": [
       "[25, 45, 65]"
      ]
     },
     "execution_count": 45,
     "metadata": {},
     "output_type": "execute_result"
    }
   ],
   "source": [
    "team_a=[10,20,30]\n",
    "team_b=[15,25,35]\n",
    "output:[25,45,65]\n",
    "\n",
    "scores= [ sum(score)for score in zip(team_a,team_b)]\n",
    "scores"
   ]
  },
  {
   "cell_type": "code",
   "execution_count": 46,
   "id": "59f94c83",
   "metadata": {},
   "outputs": [],
   "source": [
    "mobj=map(sum,zip(team_a,team_b))"
   ]
  },
  {
   "cell_type": "code",
   "execution_count": 47,
   "id": "04cf523c",
   "metadata": {},
   "outputs": [
    {
     "data": {
      "text/plain": [
       "[25, 45, 65]"
      ]
     },
     "execution_count": 47,
     "metadata": {},
     "output_type": "execute_result"
    }
   ],
   "source": [
    "list(mobj)"
   ]
  },
  {
   "cell_type": "code",
   "execution_count": 1,
   "id": "e70e81b8",
   "metadata": {},
   "outputs": [],
   "source": [
    "def task(team_tasks):\n",
    "    any_missed = False\n",
    "    all_done = True\n",
    "\n",
    "    for persontasks in team_tasks:\n",
    "        for task in persontasks:\n",
    "            any_missed = any_missed or not task\n",
    "            any_missed\n",
    "            all_done = all_done and task\n",
    "            all_done\n",
    "\n",
    "    print (\"any_missed=\", any_missed)\n",
    "    print (\"all_done=\",all_done)"
   ]
  },
  {
   "cell_type": "code",
   "execution_count": 3,
   "id": "26f9894e",
   "metadata": {},
   "outputs": [
    {
     "name": "stdout",
     "output_type": "stream",
     "text": [
      "standard_deviation 2.4083189157584592\n"
     ]
    }
   ],
   "source": [
    "import statistics \n",
    "list =[2,3,4,6,8]\n",
    "standard_dev= statistics.stdev(list)\n",
    "print (\"standard_deviation\",standard_dev)"
   ]
  },
  {
   "cell_type": "code",
   "execution_count": 18,
   "id": "7a51228d",
   "metadata": {},
   "outputs": [
    {
     "data": {
      "text/plain": [
       "3.1841621957571333"
      ]
     },
     "execution_count": 18,
     "metadata": {},
     "output_type": "execute_result"
    }
   ],
   "source": [
    "from math import sqrt\n",
    "\n",
    "def  st_deviation(*inp_list)->float:\n",
    "    N=len(inp_list)\n",
    "    if N == 0:\n",
    "        return 0\n",
    "    mean = sum (inp_list)/ N\n",
    "\n",
    "    summation= sum([(x-mean)**2 for x in inp_list])\n",
    "    result=sqrt(summation/N)\n",
    "\n",
    "    return result\n",
    "\n",
    "st_deviation (1,3,5,7,9,10)\n",
    "\n"
   ]
  },
  {
   "cell_type": "code",
   "execution_count": null,
   "id": "7ed51501",
   "metadata": {},
   "outputs": [],
   "source": []
  },
  {
   "cell_type": "code",
   "execution_count": null,
   "id": "299fbd13",
   "metadata": {},
   "outputs": [],
   "source": []
  }
 ],
 "metadata": {
  "kernelspec": {
   "display_name": "myenv",
   "language": "python",
   "name": "python3"
  },
  "language_info": {
   "codemirror_mode": {
    "name": "ipython",
    "version": 3
   },
   "file_extension": ".py",
   "mimetype": "text/x-python",
   "name": "python",
   "nbconvert_exporter": "python",
   "pygments_lexer": "ipython3",
   "version": "3.13.5"
  }
 },
 "nbformat": 4,
 "nbformat_minor": 5
}
