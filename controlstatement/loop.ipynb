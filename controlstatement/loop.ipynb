{
 "cells": [
  {
   "cell_type": "code",
   "execution_count": 1,
   "id": "aa87c900",
   "metadata": {},
   "outputs": [],
   "source": [
    "fruits = {'apple','banana','cherry'}"
   ]
  },
  {
   "cell_type": "code",
   "execution_count": 5,
   "id": "e4063579",
   "metadata": {},
   "outputs": [
    {
     "name": "stdout",
     "output_type": "stream",
     "text": [
      "fruitcherry\n",
      "fruitbanana\n",
      "fruitapple\n",
      "complated\n"
     ]
    }
   ],
   "source": [
    "for each in fruits:\n",
    "    print(f\"fruit{each}\")\n",
    "\n",
    "print(\"complated\")    "
   ]
  },
  {
   "cell_type": "code",
   "execution_count": 6,
   "id": "24ac4c94",
   "metadata": {},
   "outputs": [
    {
     "name": "stdout",
     "output_type": "stream",
     "text": [
      "h\n",
      "e\n",
      "l\n",
      "l\n",
      "o\n"
     ]
    }
   ],
   "source": [
    "for ch in \"hello\":\n",
    "    print(ch)"
   ]
  },
  {
   "cell_type": "code",
   "execution_count": 8,
   "id": "91fea457",
   "metadata": {},
   "outputs": [
    {
     "data": {
      "text/plain": [
       "[0, 1, 2, 3, 4, 5, 6, 7, 8, 9]"
      ]
     },
     "execution_count": 8,
     "metadata": {},
     "output_type": "execute_result"
    }
   ],
   "source": [
    "list (range(10))"
   ]
  },
  {
   "cell_type": "code",
   "execution_count": 9,
   "id": "f3521af2",
   "metadata": {},
   "outputs": [
    {
     "data": {
      "text/plain": [
       "[10, 15, 20, 25, 30, 35, 40, 45, 50, 55, 60, 65, 70, 75, 80, 85, 90, 95]"
      ]
     },
     "execution_count": 9,
     "metadata": {},
     "output_type": "execute_result"
    }
   ],
   "source": [
    "list (range(10,100,5))"
   ]
  },
  {
   "cell_type": "code",
   "execution_count": 10,
   "id": "d79e410a",
   "metadata": {},
   "outputs": [
    {
     "name": "stdout",
     "output_type": "stream",
     "text": [
      "0\n",
      "1\n",
      "2\n",
      "3\n",
      "4\n",
      "5\n",
      "6\n",
      "7\n",
      "8\n",
      "9\n"
     ]
    }
   ],
   "source": [
    "for i in range (10):\n",
    "    print(i)"
   ]
  },
  {
   "cell_type": "code",
   "execution_count": 15,
   "id": "6c3438dc",
   "metadata": {},
   "outputs": [
    {
     "name": "stdout",
     "output_type": "stream",
     "text": [
      "*\n",
      "**\n",
      "***\n",
      "****\n",
      "*****\n"
     ]
    }
   ],
   "source": [
    "for i in range (1,6):\n",
    "\n",
    "    print(\"*\"*i)"
   ]
  },
  {
   "cell_type": "code",
   "execution_count": 16,
   "id": "947e1c7d",
   "metadata": {},
   "outputs": [
    {
     "name": "stdout",
     "output_type": "stream",
     "text": [
      "*****\n",
      "****\n",
      "***\n",
      "**\n",
      "*\n"
     ]
    }
   ],
   "source": [
    "for i in range (5,0,-1):\n",
    "    print (\"*\"*i)"
   ]
  },
  {
   "cell_type": "code",
   "execution_count": 17,
   "id": "0d34c365",
   "metadata": {},
   "outputs": [],
   "source": [
    "adj=['red','big','tasty']\n",
    "fruits = {'apple','banana','cherry'}"
   ]
  },
  {
   "cell_type": "code",
   "execution_count": 18,
   "id": "2cac119f",
   "metadata": {},
   "outputs": [
    {
     "name": "stdout",
     "output_type": "stream",
     "text": [
      "red cherry\n",
      "red banana\n",
      "red apple\n",
      "big cherry\n",
      "big banana\n",
      "big apple\n",
      "tasty cherry\n",
      "tasty banana\n",
      "tasty apple\n"
     ]
    }
   ],
   "source": [
    "for a in adj:\n",
    "    for f in fruits:\n",
    "        print(a,f)"
   ]
  },
  {
   "cell_type": "code",
   "execution_count": 1,
   "id": "5dcbc9d0",
   "metadata": {},
   "outputs": [],
   "source": [
    "numbers = [2,5,3,6,7,33,5,8,68,0,12,4,6,66,9,101,55,32,89] "
   ]
  },
  {
   "cell_type": "code",
   "execution_count": 5,
   "id": "f4935d49",
   "metadata": {},
   "outputs": [
    {
     "name": "stdout",
     "output_type": "stream",
     "text": [
      "2\n",
      "5\n",
      "3\n",
      "6\n",
      "7\n",
      "33\n",
      "5\n",
      "8\n",
      "68\n",
      "0\n",
      "12\n",
      "4\n",
      "6\n",
      "66\n",
      "9\n",
      "101\n",
      "55\n",
      "32\n",
      "89\n"
     ]
    }
   ],
   "source": [
    "for n in numbers :\n",
    "    print (n)"
   ]
  },
  {
   "cell_type": "code",
   "execution_count": null,
   "id": "42a0f556",
   "metadata": {},
   "outputs": [],
   "source": [
    "odd, even = [], []\n"
   ]
  },
  {
   "cell_type": "code",
   "execution_count": 13,
   "id": "70f13306",
   "metadata": {},
   "outputs": [],
   "source": [
    "for n in numbers :\n",
    "    if n%2== 0:\n",
    "        even.append(n)\n",
    "    else:\n",
    "        odd.append(n)"
   ]
  },
  {
   "cell_type": "code",
   "execution_count": 14,
   "id": "52e4820c",
   "metadata": {},
   "outputs": [
    {
     "name": "stdout",
     "output_type": "stream",
     "text": [
      "even numbers are : [2, 6, 8, 68, 0, 12, 4, 6, 66, 32]\n",
      "odd numbers are : [5, 3, 7, 33, 5, 9, 101, 55, 89]\n"
     ]
    }
   ],
   "source": [
    "print (f\"even numbers are : {even}\")\n",
    "print (f\"odd numbers are : {odd}\")"
   ]
  },
  {
   "cell_type": "code",
   "execution_count": null,
   "id": "788dd4a2",
   "metadata": {},
   "outputs": [],
   "source": []
  }
 ],
 "metadata": {
  "kernelspec": {
   "display_name": "myenv",
   "language": "python",
   "name": "python3"
  },
  "language_info": {
   "codemirror_mode": {
    "name": "ipython",
    "version": 3
   },
   "file_extension": ".py",
   "mimetype": "text/x-python",
   "name": "python",
   "nbconvert_exporter": "python",
   "pygments_lexer": "ipython3",
   "version": "3.13.5"
  }
 },
 "nbformat": 4,
 "nbformat_minor": 5
}
