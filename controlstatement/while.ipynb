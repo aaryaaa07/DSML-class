{
 "cells": [
  {
   "cell_type": "code",
   "execution_count": 4,
   "id": "29e1591d",
   "metadata": {},
   "outputs": [
    {
     "name": "stdout",
     "output_type": "stream",
     "text": [
      "0\n",
      "1\n",
      "2\n",
      "3\n",
      "4\n"
     ]
    }
   ],
   "source": [
    "i=0\n",
    "\n",
    "while i<5 :\n",
    "    print (i)\n",
    "    i +=1"
   ]
  },
  {
   "cell_type": "code",
   "execution_count": 5,
   "id": "ba08e51f",
   "metadata": {},
   "outputs": [
    {
     "name": "stdout",
     "output_type": "stream",
     "text": [
      "0\n",
      "1\n",
      "2\n",
      "3\n",
      "4\n"
     ]
    }
   ],
   "source": [
    "i=0\n",
    "while i< 10:\n",
    "    print (i)\n",
    "    i+=1\n",
    "    if i==5:\n",
    "        break"
   ]
  },
  {
   "cell_type": "code",
   "execution_count": 6,
   "id": "4cc68a87",
   "metadata": {},
   "outputs": [
    {
     "name": "stdout",
     "output_type": "stream",
     "text": [
      "0\n",
      "1\n",
      "2\n",
      "3\n",
      "4\n",
      "5\n"
     ]
    }
   ],
   "source": [
    "for i in range (10):\n",
    "    print(i)\n",
    "    if i==5:\n",
    "        break"
   ]
  },
  {
   "cell_type": "code",
   "execution_count": 8,
   "id": "cce0f782",
   "metadata": {},
   "outputs": [
    {
     "name": "stdout",
     "output_type": "stream",
     "text": [
      "saimon\n",
      "suan\n"
     ]
    }
   ],
   "source": [
    "names =[\"saimon\",\"jesus\",\"suan\"]\n",
    "\n",
    "for name in names :\n",
    "    if name == \"jesus\":\n",
    "        continue\n",
    "    print(name)"
   ]
  },
  {
   "cell_type": "markdown",
   "id": "1496e992",
   "metadata": {},
   "source": []
  },
  {
   "cell_type": "code",
   "execution_count": 9,
   "id": "22a73d59",
   "metadata": {},
   "outputs": [],
   "source": [
    "numbers=[1,2,3,4,5]"
   ]
  },
  {
   "cell_type": "code",
   "execution_count": 17,
   "id": "e38d1829",
   "metadata": {},
   "outputs": [],
   "source": [
    "num = 5\n",
    "totalsum=1\n",
    "i = 1\n",
    "while i <= num:\n",
    "    i +=1\n",
    "    totalsum= totalsum*i"
   ]
  },
  {
   "cell_type": "code",
   "execution_count": 18,
   "id": "e08ed18a",
   "metadata": {},
   "outputs": [
    {
     "name": "stdout",
     "output_type": "stream",
     "text": [
      "720\n"
     ]
    }
   ],
   "source": [
    "print (totalsum)"
   ]
  },
  {
   "cell_type": "code",
   "execution_count": null,
   "id": "34b035ff",
   "metadata": {},
   "outputs": [],
   "source": []
  }
 ],
 "metadata": {
  "kernelspec": {
   "display_name": "myenv",
   "language": "python",
   "name": "python3"
  },
  "language_info": {
   "codemirror_mode": {
    "name": "ipython",
    "version": 3
   },
   "file_extension": ".py",
   "mimetype": "text/x-python",
   "name": "python",
   "nbconvert_exporter": "python",
   "pygments_lexer": "ipython3",
   "version": "3.13.5"
  }
 },
 "nbformat": 4,
 "nbformat_minor": 5
}
