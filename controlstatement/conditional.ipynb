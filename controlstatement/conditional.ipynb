{
 "cells": [
  {
   "cell_type": "code",
   "execution_count": 1,
   "id": "f7b89849",
   "metadata": {},
   "outputs": [
    {
     "name": "stdout",
     "output_type": "stream",
     "text": [
      "x is positive\n"
     ]
    }
   ],
   "source": [
    "x=6\n",
    "\n",
    "if x<0:\n",
    " print(\"x is negative\")\n",
    "elif x== 0:\n",
    " print(\"x is zero\")\n",
    "else:\n",
    "   print(\"x is positive\")"
   ]
  },
  {
   "cell_type": "code",
   "execution_count": 8,
   "id": "9f6bfaad",
   "metadata": {},
   "outputs": [
    {
     "name": "stdout",
     "output_type": "stream",
     "text": [
      "x is grade B\n"
     ]
    }
   ],
   "source": [
    "x=67\n",
    "if x<40:\n",
    "    print(\"x is Grade D\")\n",
    "elif x<60 and x>40:\n",
    "    print(\"x is grade C\")    \n",
    "elif x<80 and x>60:\n",
    "    print(\"x is grade B\")  \n",
    "else: \n",
    "    print(\"x is grade A\")    "
   ]
  },
  {
   "cell_type": "code",
   "execution_count": null,
   "id": "548ad92d",
   "metadata": {},
   "outputs": [],
   "source": [
    "if grade > 0:\n",
    "    if grade > 80:\n",
    "        print(\"grade A\")\n",
    "    else:\n",
    "        print(\"grade Other\")\n",
    "else:\n",
    "    print(\"enter positive value\")        "
   ]
  }
 ],
 "metadata": {
  "kernelspec": {
   "display_name": "myenv",
   "language": "python",
   "name": "python3"
  },
  "language_info": {
   "codemirror_mode": {
    "name": "ipython",
    "version": 3
   },
   "file_extension": ".py",
   "mimetype": "text/x-python",
   "name": "python",
   "nbconvert_exporter": "python",
   "pygments_lexer": "ipython3",
   "version": "3.13.5"
  }
 },
 "nbformat": 4,
 "nbformat_minor": 5
}
