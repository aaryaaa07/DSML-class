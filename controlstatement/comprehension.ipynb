{
 "cells": [
  {
   "cell_type": "code",
   "execution_count": 7,
   "id": "a0639b7c",
   "metadata": {},
   "outputs": [
    {
     "name": "stdout",
     "output_type": "stream",
     "text": [
      "[1, 4, 9, 16, 25, 36, 49, 64, 81]\n"
     ]
    }
   ],
   "source": [
    "square = []\n",
    "for num in range (1,10):\n",
    "    square.append(num **2)\n",
    "   \n",
    "print (square)"
   ]
  },
  {
   "cell_type": "code",
   "execution_count": 8,
   "id": "37419c44",
   "metadata": {},
   "outputs": [
    {
     "name": "stdout",
     "output_type": "stream",
     "text": [
      "[1, 4, 9, 16, 25, 36, 49, 64, 81]\n"
     ]
    }
   ],
   "source": [
    "square = [num **2 for num in range (1,10)]\n",
    "print(square)"
   ]
  },
  {
   "cell_type": "code",
   "execution_count": 9,
   "id": "30fb1a51",
   "metadata": {},
   "outputs": [
    {
     "name": "stdout",
     "output_type": "stream",
     "text": [
      "[2, 4, 6, 8]\n"
     ]
    }
   ],
   "source": [
    "even = [num for num in range (1,10) if num % 2==0]\n",
    "print (even)"
   ]
  },
  {
   "cell_type": "code",
   "execution_count": 10,
   "id": "9b79a446",
   "metadata": {},
   "outputs": [
    {
     "name": "stdout",
     "output_type": "stream",
     "text": [
      "[1, 3, 5, 7, 9]\n"
     ]
    }
   ],
   "source": [
    "odd = [ num for num in range (1,10) if num %2!=0]\n",
    "print (odd)"
   ]
  },
  {
   "cell_type": "code",
   "execution_count": 11,
   "id": "7a4fe21f",
   "metadata": {},
   "outputs": [
    {
     "name": "stdout",
     "output_type": "stream",
     "text": [
      "[1, 4, 3, 16, 5, 36, 7, 64, 9]\n"
     ]
    }
   ],
   "source": [
    "res =[num **2 if num%2==0 else num for num in range (1,10)]\n",
    "print (res)"
   ]
  },
  {
   "cell_type": "code",
   "execution_count": 12,
   "id": "486f620b",
   "metadata": {},
   "outputs": [
    {
     "name": "stdout",
     "output_type": "stream",
     "text": [
      "red apple\n",
      "red banana\n",
      "red cherry\n",
      "big apple\n",
      "big banana\n",
      "big cherry\n",
      "tasty apple\n",
      "tasty banana\n",
      "tasty cherry\n",
      "[('red', 'apple'), ('red', 'banana'), ('red', 'cherry'), ('big', 'apple'), ('big', 'banana'), ('big', 'cherry'), ('tasty', 'apple'), ('tasty', 'banana'), ('tasty', 'cherry')]\n"
     ]
    }
   ],
   "source": [
    "adj=['red','big','tasty']\n",
    "fruits = ['apple','banana','cherry']\n",
    "for a in adj:\n",
    "    for f in fruits:\n",
    "        print (a,f)\n",
    "pair = [(a,f) for a in adj for f in fruits]   \n",
    "print (pair)     "
   ]
  },
  {
   "cell_type": "code",
   "execution_count": 13,
   "id": "c0c9d836",
   "metadata": {},
   "outputs": [],
   "source": [
    "sen = \"A single training set that has already been processed is usually split into several types of datasets in machine learning which is needed to check how well the training of the model went\""
   ]
  },
  {
   "cell_type": "code",
   "execution_count": 14,
   "id": "d0e2521c",
   "metadata": {},
   "outputs": [
    {
     "name": "stdout",
     "output_type": "stream",
     "text": [
      "['A', 'single', 'training', 'set', 'that', 'has', 'already', 'been', 'processed', 'is', 'usually', 'split', 'into', 'several', 'types', 'of', 'datasets', 'in', 'machine', 'learning', 'which', 'is', 'needed', 'to', 'check', 'how', 'well', 'the', 'training', 'of', 'the', 'model', 'went']\n"
     ]
    }
   ],
   "source": [
    "words= sen.split()\n",
    "print (words)"
   ]
  },
  {
   "cell_type": "code",
   "execution_count": 18,
   "id": "ef0fc4f4",
   "metadata": {},
   "outputs": [],
   "source": [
    "letter_count_per_word={w:len(w) for w in sen.split() if len(w)<5}"
   ]
  },
  {
   "cell_type": "code",
   "execution_count": 16,
   "id": "4b7a337e",
   "metadata": {},
   "outputs": [
    {
     "data": {
      "text/plain": [
       "dict"
      ]
     },
     "execution_count": 16,
     "metadata": {},
     "output_type": "execute_result"
    }
   ],
   "source": [
    "type (letter_count_per_word)"
   ]
  },
  {
   "cell_type": "code",
   "execution_count": 19,
   "id": "6a4f2a51",
   "metadata": {},
   "outputs": [
    {
     "data": {
      "text/plain": [
       "{'A': 1,\n",
       " 'set': 3,\n",
       " 'that': 4,\n",
       " 'has': 3,\n",
       " 'been': 4,\n",
       " 'is': 2,\n",
       " 'into': 4,\n",
       " 'of': 2,\n",
       " 'in': 2,\n",
       " 'to': 2,\n",
       " 'how': 3,\n",
       " 'well': 4,\n",
       " 'the': 3,\n",
       " 'went': 4}"
      ]
     },
     "execution_count": 19,
     "metadata": {},
     "output_type": "execute_result"
    }
   ],
   "source": [
    "letter_count_per_word"
   ]
  },
  {
   "cell_type": "code",
   "execution_count": 20,
   "id": "5b72abdc",
   "metadata": {},
   "outputs": [],
   "source": [
    "sq_odd={num **2 for num in range (1,20) if num %2!=0}"
   ]
  },
  {
   "cell_type": "code",
   "execution_count": 21,
   "id": "c563e49a",
   "metadata": {},
   "outputs": [
    {
     "data": {
      "text/plain": [
       "{1, 9, 25, 49, 81, 121, 169, 225, 289, 361}"
      ]
     },
     "execution_count": 21,
     "metadata": {},
     "output_type": "execute_result"
    }
   ],
   "source": [
    "sq_odd"
   ]
  },
  {
   "cell_type": "code",
   "execution_count": 22,
   "id": "c5661488",
   "metadata": {},
   "outputs": [
    {
     "data": {
      "text/plain": [
       "['aa', 'ab', 'ac', 'ba', 'bb', 'bc', 'ca', 'cb', 'cc']"
      ]
     },
     "execution_count": 22,
     "metadata": {},
     "output_type": "execute_result"
    }
   ],
   "source": [
    "letters = [ 'a','b','c']\n",
    "pairs = [ let1 + let2 for let1 in letters for let2 in letters]\n",
    "pairs "
   ]
  },
  {
   "cell_type": "code",
   "execution_count": 23,
   "id": "61372085",
   "metadata": {},
   "outputs": [],
   "source": [
    "sen=\"Set comprehensions can be nested\""
   ]
  },
  {
   "cell_type": "code",
   "execution_count": 25,
   "id": "fdc4acc9",
   "metadata": {},
   "outputs": [],
   "source": [
    "vowels={char.lower() for char in sen if char.lower() in \"aeiou\"}"
   ]
  },
  {
   "cell_type": "code",
   "execution_count": 27,
   "id": "d1445ca5",
   "metadata": {},
   "outputs": [
    {
     "data": {
      "text/plain": [
       "{'a', 'e', 'i', 'o'}"
      ]
     },
     "execution_count": 27,
     "metadata": {},
     "output_type": "execute_result"
    }
   ],
   "source": [
    "vowels"
   ]
  },
  {
   "cell_type": "code",
   "execution_count": null,
   "id": "b9a8ceb7",
   "metadata": {},
   "outputs": [],
   "source": []
  }
 ],
 "metadata": {
  "kernelspec": {
   "display_name": "myenv",
   "language": "python",
   "name": "python3"
  },
  "language_info": {
   "codemirror_mode": {
    "name": "ipython",
    "version": 3
   },
   "file_extension": ".py",
   "mimetype": "text/x-python",
   "name": "python",
   "nbconvert_exporter": "python",
   "pygments_lexer": "ipython3",
   "version": "3.13.5"
  }
 },
 "nbformat": 4,
 "nbformat_minor": 5
}
