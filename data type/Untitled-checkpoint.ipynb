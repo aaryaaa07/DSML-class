{
 "cells": [
  {
   "cell_type": "code",
   "execution_count": 2,
   "id": "0305ec07-0a67-4915-91cf-6df0c258496d",
   "metadata": {},
   "outputs": [],
   "source": [
    "num1=23\n",
    "num2=44"
   ]
  },
  {
   "cell_type": "code",
   "execution_count": 3,
   "id": "6aa732ee-c630-4327-9b08-8e14e4ac5265",
   "metadata": {},
   "outputs": [
    {
     "data": {
      "text/plain": [
       "False"
      ]
     },
     "execution_count": 3,
     "metadata": {},
     "output_type": "execute_result"
    }
   ],
   "source": [
    "num1==num2"
   ]
  },
  {
   "cell_type": "code",
   "execution_count": 5,
   "id": "0279d937-07b3-41b3-a689-f4cb19a61aea",
   "metadata": {},
   "outputs": [
    {
     "data": {
      "text/plain": [
       "False"
      ]
     },
     "execution_count": 5,
     "metadata": {},
     "output_type": "execute_result"
    }
   ],
   "source": [
    "num1>=num2"
   ]
  },
  {
   "cell_type": "code",
   "execution_count": 6,
   "id": "ab53f902-4607-4d24-8b8f-e437ffc9c29c",
   "metadata": {},
   "outputs": [
    {
     "data": {
      "text/plain": [
       "True"
      ]
     },
     "execution_count": 6,
     "metadata": {},
     "output_type": "execute_result"
    }
   ],
   "source": [
    "num1!=num2"
   ]
  },
  {
   "cell_type": "code",
   "execution_count": 7,
   "id": "fdd333e5-7569-4b4a-b0c1-97d0a570ec91",
   "metadata": {},
   "outputs": [],
   "source": [
    "x = -22.5"
   ]
  },
  {
   "cell_type": "code",
   "execution_count": 13,
   "id": "e93782e9-3f70-403a-b819-8262ef27c260",
   "metadata": {},
   "outputs": [],
   "source": [
    "import math"
   ]
  },
  {
   "cell_type": "code",
   "execution_count": 14,
   "id": "42ba9c91-ac19-4122-b067-c27ee639ddf7",
   "metadata": {},
   "outputs": [
    {
     "data": {
      "text/plain": [
       "22.5"
      ]
     },
     "execution_count": 14,
     "metadata": {},
     "output_type": "execute_result"
    }
   ],
   "source": [
    "math.fabs(x)"
   ]
  },
  {
   "cell_type": "code",
   "execution_count": 15,
   "id": "ad00b0b1-0d8d-464c-a335-beea255ccb4a",
   "metadata": {},
   "outputs": [],
   "source": [
    "x=22.5"
   ]
  },
  {
   "cell_type": "code",
   "execution_count": 16,
   "id": "204c5369-68e9-47dc-9054-95705ec2deaa",
   "metadata": {},
   "outputs": [
    {
     "data": {
      "text/plain": [
       "2.8231080866430855"
      ]
     },
     "execution_count": 16,
     "metadata": {},
     "output_type": "execute_result"
    }
   ],
   "source": [
    "math.cbrt(x)"
   ]
  },
  {
   "cell_type": "code",
   "execution_count": 17,
   "id": "990e7367-a452-4f0b-8bed-b8e5189d9a8e",
   "metadata": {},
   "outputs": [
    {
     "data": {
      "text/plain": [
       "2.718281828459045"
      ]
     },
     "execution_count": 17,
     "metadata": {},
     "output_type": "execute_result"
    }
   ],
   "source": [
    "math.e"
   ]
  },
  {
   "cell_type": "code",
   "execution_count": 18,
   "id": "e5af4390-f6a5-4a91-9781-7c92cdc15c55",
   "metadata": {},
   "outputs": [
    {
     "data": {
      "text/plain": [
       "2"
      ]
     },
     "execution_count": 18,
     "metadata": {},
     "output_type": "execute_result"
    }
   ],
   "source": [
    "math.gcd(2,4,6)"
   ]
  },
  {
   "cell_type": "code",
   "execution_count": 19,
   "id": "be8cc519-3a6e-4403-b1fe-a19dbb7078ae",
   "metadata": {},
   "outputs": [
    {
     "data": {
      "text/plain": [
       "45"
      ]
     },
     "execution_count": 19,
     "metadata": {},
     "output_type": "execute_result"
    }
   ],
   "source": [
    "math.ceil(44.6)"
   ]
  },
  {
   "cell_type": "code",
   "execution_count": 20,
   "id": "cf31d61b-51a5-4ff5-81cc-06fdec50b831",
   "metadata": {},
   "outputs": [
    {
     "data": {
      "text/plain": [
       "44"
      ]
     },
     "execution_count": 20,
     "metadata": {},
     "output_type": "execute_result"
    }
   ],
   "source": [
    "math.floor(44.2)"
   ]
  },
  {
   "cell_type": "code",
   "execution_count": 23,
   "id": "d99cea58-9f8f-447f-95fb-928d87741643",
   "metadata": {},
   "outputs": [
    {
     "data": {
      "text/plain": [
       "2.8284271247461903"
      ]
     },
     "execution_count": 23,
     "metadata": {},
     "output_type": "execute_result"
    }
   ],
   "source": [
    "math.dist((3,4),(5,6))"
   ]
  },
  {
   "cell_type": "code",
   "execution_count": 28,
   "id": "06dc5f52-276b-493d-b662-c4002a61326a",
   "metadata": {},
   "outputs": [],
   "source": [
    "user=67\n",
    "capacity=128"
   ]
  },
  {
   "cell_type": "code",
   "execution_count": 29,
   "id": "d13e41a9-1f50-4a85-ba9a-050c9f0786de",
   "metadata": {},
   "outputs": [
    {
     "data": {
      "text/plain": [
       "67"
      ]
     },
     "execution_count": 29,
     "metadata": {},
     "output_type": "execute_result"
    }
   ],
   "source": [
    "min(user,capacity)"
   ]
  },
  {
   "cell_type": "code",
   "execution_count": 34,
   "id": "ac846ecf-0788-48bb-881e-8ae7c422580b",
   "metadata": {},
   "outputs": [],
   "source": [
    "result= min(user,capacity)"
   ]
  },
  {
   "cell_type": "code",
   "execution_count": 35,
   "id": "9423fa1c-dd1d-4a30-978f-a76518816434",
   "metadata": {},
   "outputs": [
    {
     "data": {
      "text/plain": [
       "67"
      ]
     },
     "execution_count": 35,
     "metadata": {},
     "output_type": "execute_result"
    }
   ],
   "source": [
    "result"
   ]
  },
  {
   "cell_type": "code",
   "execution_count": 37,
   "id": "a3cb3151-b2c7-4fe6-9050-fbb93cef46b6",
   "metadata": {},
   "outputs": [],
   "source": [
    "name= \"harry\""
   ]
  },
  {
   "cell_type": "code",
   "execution_count": 38,
   "id": "c0532fa8-a2d3-4835-9ab5-4ae2a7f33b4a",
   "metadata": {},
   "outputs": [
    {
     "data": {
      "text/plain": [
       "str"
      ]
     },
     "execution_count": 38,
     "metadata": {},
     "output_type": "execute_result"
    }
   ],
   "source": [
    "type(name)"
   ]
  },
  {
   "cell_type": "code",
   "execution_count": 39,
   "id": "91668d48-783e-458c-a80f-e7b8591a878d",
   "metadata": {},
   "outputs": [],
   "source": [
    "sent=\"\"\"\n",
    "line 1\n",
    "line2\n",
    "\"\"\""
   ]
  },
  {
   "cell_type": "code",
   "execution_count": 41,
   "id": "5fa603cc-47ac-4463-8a15-43cbe3e63614",
   "metadata": {},
   "outputs": [],
   "source": [
    "x=\"welcome\""
   ]
  },
  {
   "cell_type": "code",
   "execution_count": 42,
   "id": "7d78b5c7-c82a-4f07-b39c-5c9ae40f9d18",
   "metadata": {},
   "outputs": [
    {
     "data": {
      "text/plain": [
       "'welcome'"
      ]
     },
     "execution_count": 42,
     "metadata": {},
     "output_type": "execute_result"
    }
   ],
   "source": [
    "x.strip()"
   ]
  },
  {
   "cell_type": "code",
   "execution_count": 44,
   "id": "8c66c521-ef72-4823-ac47-f753c01dd499",
   "metadata": {},
   "outputs": [
    {
     "data": {
      "text/plain": [
       "'eelcome'"
      ]
     },
     "execution_count": 44,
     "metadata": {},
     "output_type": "execute_result"
    }
   ],
   "source": [
    "x.replace(\"w\",\"e\")"
   ]
  },
  {
   "cell_type": "code",
   "execution_count": 45,
   "id": "3078532d-ff61-43bf-990d-ccfb32306f3c",
   "metadata": {},
   "outputs": [
    {
     "data": {
      "text/plain": [
       "['w', 'lcom', '']"
      ]
     },
     "execution_count": 45,
     "metadata": {},
     "output_type": "execute_result"
    }
   ],
   "source": [
    "x.split('e')"
   ]
  },
  {
   "cell_type": "code",
   "execution_count": 46,
   "id": "883b15b5-5d9b-457b-a7f9-be3f6c55a108",
   "metadata": {},
   "outputs": [],
   "source": [
    "email=\"test@gmail.com\""
   ]
  },
  {
   "cell_type": "code",
   "execution_count": 48,
   "id": "f655250e-2baf-4a8c-96f1-243fbd9e0aef",
   "metadata": {},
   "outputs": [
    {
     "data": {
      "text/plain": [
       "True"
      ]
     },
     "execution_count": 48,
     "metadata": {},
     "output_type": "execute_result"
    }
   ],
   "source": [
    "email.endswith(\"gmail.com\")"
   ]
  },
  {
   "cell_type": "code",
   "execution_count": 50,
   "id": "d8dbb306-8b51-4b57-a010-3b34a0ab4824",
   "metadata": {},
   "outputs": [],
   "source": [
    "address = \"kathmandu\""
   ]
  },
  {
   "cell_type": "code",
   "execution_count": 53,
   "id": "31e7752f-4441-4cb1-bf40-6abb1827d067",
   "metadata": {},
   "outputs": [
    {
     "data": {
      "text/plain": [
       "'d'"
      ]
     },
     "execution_count": 53,
     "metadata": {},
     "output_type": "execute_result"
    }
   ],
   "source": [
    "address[7]"
   ]
  },
  {
   "cell_type": "code",
   "execution_count": 52,
   "id": "aa190410-33ec-4ef1-9ae3-c25be1526e9d",
   "metadata": {},
   "outputs": [
    {
     "data": {
      "text/plain": [
       "'u'"
      ]
     },
     "execution_count": 52,
     "metadata": {},
     "output_type": "execute_result"
    }
   ],
   "source": [
    "address[-1]"
   ]
  },
  {
   "cell_type": "code",
   "execution_count": null,
   "id": "c13fc8d9-fc44-48f1-99dd-f2bb1220f98d",
   "metadata": {},
   "outputs": [],
   "source": []
  }
 ],
 "metadata": {
  "kernelspec": {
   "display_name": "Python 3 (ipykernel)",
   "language": "python",
   "name": "python3"
  },
  "language_info": {
   "codemirror_mode": {
    "name": "ipython",
    "version": 3
   },
   "file_extension": ".py",
   "mimetype": "text/x-python",
   "name": "python",
   "nbconvert_exporter": "python",
   "pygments_lexer": "ipython3",
   "version": "3.13.5"
  }
 },
 "nbformat": 4,
 "nbformat_minor": 5
}
