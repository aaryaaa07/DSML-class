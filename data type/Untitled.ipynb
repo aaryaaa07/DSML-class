{
 "cells": [
  {
   "cell_type": "code",
   "execution_count": 42,
   "id": "0305ec07-0a67-4915-91cf-6df0c258496d",
   "metadata": {},
   "outputs": [],
   "source": [
    "num1=23\n",
    "num2=44"
   ]
  },
  {
   "cell_type": "code",
   "execution_count": 43,
   "id": "6aa732ee-c630-4327-9b08-8e14e4ac5265",
   "metadata": {},
   "outputs": [
    {
     "data": {
      "text/plain": [
       "False"
      ]
     },
     "execution_count": 43,
     "metadata": {},
     "output_type": "execute_result"
    }
   ],
   "source": [
    "num1==num2"
   ]
  },
  {
   "cell_type": "code",
   "execution_count": 44,
   "id": "0279d937-07b3-41b3-a689-f4cb19a61aea",
   "metadata": {},
   "outputs": [
    {
     "data": {
      "text/plain": [
       "False"
      ]
     },
     "execution_count": 44,
     "metadata": {},
     "output_type": "execute_result"
    }
   ],
   "source": [
    "num1>=num2"
   ]
  },
  {
   "cell_type": "code",
   "execution_count": 45,
   "id": "ab53f902-4607-4d24-8b8f-e437ffc9c29c",
   "metadata": {},
   "outputs": [
    {
     "data": {
      "text/plain": [
       "True"
      ]
     },
     "execution_count": 45,
     "metadata": {},
     "output_type": "execute_result"
    }
   ],
   "source": [
    "num1!=num2"
   ]
  },
  {
   "cell_type": "code",
   "execution_count": 46,
   "id": "fdd333e5-7569-4b4a-b0c1-97d0a570ec91",
   "metadata": {},
   "outputs": [],
   "source": [
    "x = -22.5"
   ]
  },
  {
   "cell_type": "code",
   "execution_count": 47,
   "id": "e93782e9-3f70-403a-b819-8262ef27c260",
   "metadata": {},
   "outputs": [],
   "source": [
    "import math"
   ]
  },
  {
   "cell_type": "code",
   "execution_count": 48,
   "id": "42ba9c91-ac19-4122-b067-c27ee639ddf7",
   "metadata": {},
   "outputs": [
    {
     "data": {
      "text/plain": [
       "22.5"
      ]
     },
     "execution_count": 48,
     "metadata": {},
     "output_type": "execute_result"
    }
   ],
   "source": [
    "math.fabs(x)"
   ]
  },
  {
   "cell_type": "code",
   "execution_count": 49,
   "id": "ad00b0b1-0d8d-464c-a335-beea255ccb4a",
   "metadata": {},
   "outputs": [],
   "source": [
    "x=22.5"
   ]
  },
  {
   "cell_type": "code",
   "execution_count": 50,
   "id": "204c5369-68e9-47dc-9054-95705ec2deaa",
   "metadata": {},
   "outputs": [
    {
     "data": {
      "text/plain": [
       "2.8231080866430855"
      ]
     },
     "execution_count": 50,
     "metadata": {},
     "output_type": "execute_result"
    }
   ],
   "source": [
    "math.cbrt(x)"
   ]
  },
  {
   "cell_type": "code",
   "execution_count": 51,
   "id": "990e7367-a452-4f0b-8bed-b8e5189d9a8e",
   "metadata": {},
   "outputs": [
    {
     "data": {
      "text/plain": [
       "2.718281828459045"
      ]
     },
     "execution_count": 51,
     "metadata": {},
     "output_type": "execute_result"
    }
   ],
   "source": [
    "math.e"
   ]
  },
  {
   "cell_type": "code",
   "execution_count": 52,
   "id": "e5af4390-f6a5-4a91-9781-7c92cdc15c55",
   "metadata": {},
   "outputs": [
    {
     "data": {
      "text/plain": [
       "2"
      ]
     },
     "execution_count": 52,
     "metadata": {},
     "output_type": "execute_result"
    }
   ],
   "source": [
    "math.gcd(2,4,6)"
   ]
  },
  {
   "cell_type": "code",
   "execution_count": 53,
   "id": "be8cc519-3a6e-4403-b1fe-a19dbb7078ae",
   "metadata": {},
   "outputs": [
    {
     "data": {
      "text/plain": [
       "45"
      ]
     },
     "execution_count": 53,
     "metadata": {},
     "output_type": "execute_result"
    }
   ],
   "source": [
    "math.ceil(44.6)"
   ]
  },
  {
   "cell_type": "code",
   "execution_count": 54,
   "id": "cf31d61b-51a5-4ff5-81cc-06fdec50b831",
   "metadata": {},
   "outputs": [
    {
     "data": {
      "text/plain": [
       "44"
      ]
     },
     "execution_count": 54,
     "metadata": {},
     "output_type": "execute_result"
    }
   ],
   "source": [
    "math.floor(44.2)"
   ]
  },
  {
   "cell_type": "code",
   "execution_count": 55,
   "id": "d99cea58-9f8f-447f-95fb-928d87741643",
   "metadata": {},
   "outputs": [
    {
     "data": {
      "text/plain": [
       "2.8284271247461903"
      ]
     },
     "execution_count": 55,
     "metadata": {},
     "output_type": "execute_result"
    }
   ],
   "source": [
    "math.dist((3,4),(5,6))"
   ]
  },
  {
   "cell_type": "code",
   "execution_count": 56,
   "id": "06dc5f52-276b-493d-b662-c4002a61326a",
   "metadata": {},
   "outputs": [],
   "source": [
    "user=67\n",
    "capacity=128"
   ]
  },
  {
   "cell_type": "code",
   "execution_count": 57,
   "id": "d13e41a9-1f50-4a85-ba9a-050c9f0786de",
   "metadata": {},
   "outputs": [
    {
     "data": {
      "text/plain": [
       "67"
      ]
     },
     "execution_count": 57,
     "metadata": {},
     "output_type": "execute_result"
    }
   ],
   "source": [
    "min(user,capacity)"
   ]
  },
  {
   "cell_type": "code",
   "execution_count": 58,
   "id": "ac846ecf-0788-48bb-881e-8ae7c422580b",
   "metadata": {},
   "outputs": [],
   "source": [
    "result= min(user,capacity)"
   ]
  },
  {
   "cell_type": "code",
   "execution_count": 59,
   "id": "9423fa1c-dd1d-4a30-978f-a76518816434",
   "metadata": {},
   "outputs": [
    {
     "data": {
      "text/plain": [
       "67"
      ]
     },
     "execution_count": 59,
     "metadata": {},
     "output_type": "execute_result"
    }
   ],
   "source": [
    "result"
   ]
  },
  {
   "cell_type": "code",
   "execution_count": 60,
   "id": "a3cb3151-b2c7-4fe6-9050-fbb93cef46b6",
   "metadata": {},
   "outputs": [],
   "source": [
    "name= \"harry\""
   ]
  },
  {
   "cell_type": "code",
   "execution_count": 61,
   "id": "c0532fa8-a2d3-4835-9ab5-4ae2a7f33b4a",
   "metadata": {},
   "outputs": [
    {
     "data": {
      "text/plain": [
       "str"
      ]
     },
     "execution_count": 61,
     "metadata": {},
     "output_type": "execute_result"
    }
   ],
   "source": [
    "type(name)"
   ]
  },
  {
   "cell_type": "code",
   "execution_count": 62,
   "id": "91668d48-783e-458c-a80f-e7b8591a878d",
   "metadata": {},
   "outputs": [],
   "source": [
    "sent=\"\"\"\n",
    "line 1\n",
    "line2\n",
    "\"\"\""
   ]
  },
  {
   "cell_type": "code",
   "execution_count": 63,
   "id": "5fa603cc-47ac-4463-8a15-43cbe3e63614",
   "metadata": {},
   "outputs": [],
   "source": [
    "x=\"welcome\""
   ]
  },
  {
   "cell_type": "code",
   "execution_count": 64,
   "id": "7d78b5c7-c82a-4f07-b39c-5c9ae40f9d18",
   "metadata": {},
   "outputs": [
    {
     "data": {
      "text/plain": [
       "'welcome'"
      ]
     },
     "execution_count": 64,
     "metadata": {},
     "output_type": "execute_result"
    }
   ],
   "source": [
    "x.strip()"
   ]
  },
  {
   "cell_type": "code",
   "execution_count": 65,
   "id": "8c66c521-ef72-4823-ac47-f753c01dd499",
   "metadata": {},
   "outputs": [
    {
     "data": {
      "text/plain": [
       "'eelcome'"
      ]
     },
     "execution_count": 65,
     "metadata": {},
     "output_type": "execute_result"
    }
   ],
   "source": [
    "x.replace(\"w\",\"e\")"
   ]
  },
  {
   "cell_type": "code",
   "execution_count": 66,
   "id": "3078532d-ff61-43bf-990d-ccfb32306f3c",
   "metadata": {},
   "outputs": [
    {
     "data": {
      "text/plain": [
       "['w', 'lcom', '']"
      ]
     },
     "execution_count": 66,
     "metadata": {},
     "output_type": "execute_result"
    }
   ],
   "source": [
    "x.split('e')"
   ]
  },
  {
   "cell_type": "code",
   "execution_count": 67,
   "id": "883b15b5-5d9b-457b-a7f9-be3f6c55a108",
   "metadata": {},
   "outputs": [],
   "source": [
    "email=\"test@gmail.com\""
   ]
  },
  {
   "cell_type": "code",
   "execution_count": 68,
   "id": "f655250e-2baf-4a8c-96f1-243fbd9e0aef",
   "metadata": {},
   "outputs": [
    {
     "data": {
      "text/plain": [
       "True"
      ]
     },
     "execution_count": 68,
     "metadata": {},
     "output_type": "execute_result"
    }
   ],
   "source": [
    "email.endswith(\"gmail.com\")"
   ]
  },
  {
   "cell_type": "code",
   "execution_count": 69,
   "id": "d8dbb306-8b51-4b57-a010-3b34a0ab4824",
   "metadata": {},
   "outputs": [],
   "source": [
    "address = \"kathmandu\""
   ]
  },
  {
   "cell_type": "code",
   "execution_count": 70,
   "id": "31e7752f-4441-4cb1-bf40-6abb1827d067",
   "metadata": {},
   "outputs": [
    {
     "data": {
      "text/plain": [
       "'d'"
      ]
     },
     "execution_count": 70,
     "metadata": {},
     "output_type": "execute_result"
    }
   ],
   "source": [
    "address[7]"
   ]
  },
  {
   "cell_type": "code",
   "execution_count": 71,
   "id": "aa190410-33ec-4ef1-9ae3-c25be1526e9d",
   "metadata": {},
   "outputs": [
    {
     "data": {
      "text/plain": [
       "'u'"
      ]
     },
     "execution_count": 71,
     "metadata": {},
     "output_type": "execute_result"
    }
   ],
   "source": [
    "address[-1]"
   ]
  },
  {
   "cell_type": "code",
   "execution_count": 72,
   "id": "17e251b6",
   "metadata": {},
   "outputs": [],
   "source": [
    "name= \"hari\"\n",
    "age = 45"
   ]
  },
  {
   "cell_type": "code",
   "execution_count": 73,
   "id": "c13fc8d9-fc44-48f1-99dd-f2bb1220f98d",
   "metadata": {},
   "outputs": [
    {
     "name": "stdout",
     "output_type": "stream",
     "text": [
      "your name is Hari and you are 45 years old.\n"
     ]
    }
   ],
   "source": [
    "print(\"your name is %s and you are %d years old.\" %(name.capitalize(), age))\n"
   ]
  },
  {
   "cell_type": "code",
   "execution_count": 74,
   "id": "6de51e58",
   "metadata": {},
   "outputs": [],
   "source": [
    "prime = [1,3,5,7,11,13,17,19,23,29]"
   ]
  },
  {
   "cell_type": "code",
   "execution_count": 75,
   "id": "1e1a9060",
   "metadata": {},
   "outputs": [
    {
     "data": {
      "text/plain": [
       "list"
      ]
     },
     "execution_count": 75,
     "metadata": {},
     "output_type": "execute_result"
    }
   ],
   "source": [
    "type(prime)"
   ]
  },
  {
   "cell_type": "code",
   "execution_count": 76,
   "id": "97c4a264",
   "metadata": {},
   "outputs": [],
   "source": [
    "z=[\"apple\",11.34,\"45John\", -3]"
   ]
  },
  {
   "cell_type": "code",
   "execution_count": 77,
   "id": "9848c55a",
   "metadata": {},
   "outputs": [
    {
     "name": "stdout",
     "output_type": "stream",
     "text": [
      "['apple', 11.34, '45John', -3]\n"
     ]
    }
   ],
   "source": [
    "print(z)"
   ]
  },
  {
   "cell_type": "code",
   "execution_count": 78,
   "id": "31be58bc",
   "metadata": {},
   "outputs": [
    {
     "data": {
      "text/plain": [
       "4"
      ]
     },
     "execution_count": 78,
     "metadata": {},
     "output_type": "execute_result"
    }
   ],
   "source": [
    "len(z)"
   ]
  },
  {
   "cell_type": "code",
   "execution_count": 79,
   "id": "bb51d944",
   "metadata": {},
   "outputs": [
    {
     "data": {
      "text/plain": [
       "11.34"
      ]
     },
     "execution_count": 79,
     "metadata": {},
     "output_type": "execute_result"
    }
   ],
   "source": [
    "z[1]"
   ]
  },
  {
   "cell_type": "code",
   "execution_count": 80,
   "id": "556121d5",
   "metadata": {},
   "outputs": [
    {
     "data": {
      "text/plain": [
       "11.34"
      ]
     },
     "execution_count": 80,
     "metadata": {},
     "output_type": "execute_result"
    }
   ],
   "source": [
    "z[-3]"
   ]
  },
  {
   "cell_type": "code",
   "execution_count": 81,
   "id": "c6cf4719",
   "metadata": {},
   "outputs": [],
   "source": [
    "prime=[1,3,5,7,11,19,21]"
   ]
  },
  {
   "cell_type": "code",
   "execution_count": 82,
   "id": "0ecf32dd",
   "metadata": {},
   "outputs": [
    {
     "data": {
      "text/plain": [
       "[5, 11, 21]"
      ]
     },
     "execution_count": 82,
     "metadata": {},
     "output_type": "execute_result"
    }
   ],
   "source": [
    "prime[2::2]"
   ]
  },
  {
   "cell_type": "code",
   "execution_count": 83,
   "id": "e844fc2f",
   "metadata": {},
   "outputs": [
    {
     "data": {
      "text/plain": [
       "[21, 19, 11, 7, 5, 3, 1]"
      ]
     },
     "execution_count": 83,
     "metadata": {},
     "output_type": "execute_result"
    }
   ],
   "source": [
    "prime[::-1]"
   ]
  },
  {
   "cell_type": "code",
   "execution_count": 84,
   "id": "614fccf2",
   "metadata": {},
   "outputs": [
    {
     "data": {
      "text/plain": [
       "67"
      ]
     },
     "execution_count": 84,
     "metadata": {},
     "output_type": "execute_result"
    }
   ],
   "source": [
    "sum(prime)"
   ]
  },
  {
   "cell_type": "code",
   "execution_count": 85,
   "id": "8084f56c",
   "metadata": {},
   "outputs": [],
   "source": [
    "z=[\"apple\",11.34,\"45John\", -3]"
   ]
  },
  {
   "cell_type": "code",
   "execution_count": 86,
   "id": "bfdcb55b",
   "metadata": {},
   "outputs": [],
   "source": [
    "z[2]=\"john\""
   ]
  },
  {
   "cell_type": "code",
   "execution_count": 87,
   "id": "2cdf58bb",
   "metadata": {},
   "outputs": [
    {
     "name": "stdout",
     "output_type": "stream",
     "text": [
      "['apple', 11.34, 'john', -3]\n"
     ]
    }
   ],
   "source": [
    "print(z)"
   ]
  },
  {
   "cell_type": "code",
   "execution_count": 88,
   "id": "f26501f4",
   "metadata": {},
   "outputs": [],
   "source": [
    "z.append(66)"
   ]
  },
  {
   "cell_type": "code",
   "execution_count": 89,
   "id": "262fcd2f",
   "metadata": {},
   "outputs": [
    {
     "name": "stdout",
     "output_type": "stream",
     "text": [
      "['apple', 11.34, 'john', -3, 66]\n"
     ]
    }
   ],
   "source": [
    "print(z)"
   ]
  },
  {
   "cell_type": "code",
   "execution_count": 90,
   "id": "bbdc3a11",
   "metadata": {},
   "outputs": [],
   "source": [
    "z.insert(1, \"cow\")"
   ]
  },
  {
   "cell_type": "code",
   "execution_count": 91,
   "id": "1ecb26e7",
   "metadata": {},
   "outputs": [
    {
     "name": "stdout",
     "output_type": "stream",
     "text": [
      "['apple', 'cow', 11.34, 'john', -3, 66]\n"
     ]
    }
   ],
   "source": [
    "print(z)"
   ]
  },
  {
   "cell_type": "code",
   "execution_count": 92,
   "id": "9afc92fe",
   "metadata": {},
   "outputs": [],
   "source": [
    "z.extend([1,2,3])"
   ]
  },
  {
   "cell_type": "code",
   "execution_count": 93,
   "id": "05f191eb",
   "metadata": {},
   "outputs": [
    {
     "name": "stdout",
     "output_type": "stream",
     "text": [
      "['apple', 'cow', 11.34, 'john', -3, 66, 1, 2, 3]\n"
     ]
    }
   ],
   "source": [
    "print(z)"
   ]
  },
  {
   "cell_type": "code",
   "execution_count": 94,
   "id": "de23c5dd",
   "metadata": {},
   "outputs": [],
   "source": [
    "z.remove(-3)"
   ]
  },
  {
   "cell_type": "code",
   "execution_count": 95,
   "id": "6d01f4fb",
   "metadata": {},
   "outputs": [
    {
     "data": {
      "text/plain": [
       "3"
      ]
     },
     "execution_count": 95,
     "metadata": {},
     "output_type": "execute_result"
    }
   ],
   "source": [
    "z.pop(-1)"
   ]
  },
  {
   "cell_type": "code",
   "execution_count": 96,
   "id": "0a7995a3",
   "metadata": {},
   "outputs": [
    {
     "name": "stdout",
     "output_type": "stream",
     "text": [
      "['apple', 'cow', 11.34, 'john', 66, 1, 2]\n"
     ]
    }
   ],
   "source": [
    "print(z)"
   ]
  },
  {
   "cell_type": "code",
   "execution_count": 97,
   "id": "392ea815",
   "metadata": {},
   "outputs": [],
   "source": [
    "z.clear()"
   ]
  },
  {
   "cell_type": "code",
   "execution_count": 98,
   "id": "d8ca7d2a",
   "metadata": {},
   "outputs": [
    {
     "name": "stdout",
     "output_type": "stream",
     "text": [
      "[]\n"
     ]
    }
   ],
   "source": [
    "print(z)"
   ]
  },
  {
   "cell_type": "code",
   "execution_count": 99,
   "id": "f644f068",
   "metadata": {},
   "outputs": [],
   "source": [
    "name=[\"hair\",\"shyam\"]"
   ]
  },
  {
   "cell_type": "code",
   "execution_count": 100,
   "id": "93263dd9",
   "metadata": {},
   "outputs": [],
   "source": [
    "name_new=name"
   ]
  },
  {
   "cell_type": "code",
   "execution_count": 101,
   "id": "2eaedced",
   "metadata": {},
   "outputs": [
    {
     "data": {
      "text/plain": [
       "['hair', 'shyam']"
      ]
     },
     "execution_count": 101,
     "metadata": {},
     "output_type": "execute_result"
    }
   ],
   "source": [
    "name_new"
   ]
  },
  {
   "cell_type": "code",
   "execution_count": 103,
   "id": "f04cc492",
   "metadata": {},
   "outputs": [],
   "source": [
    "name_new.append(\"krishna\")"
   ]
  },
  {
   "cell_type": "code",
   "execution_count": 104,
   "id": "6bd876ef",
   "metadata": {},
   "outputs": [
    {
     "data": {
      "text/plain": [
       "['hair', 'shyam', 'krishna']"
      ]
     },
     "execution_count": 104,
     "metadata": {},
     "output_type": "execute_result"
    }
   ],
   "source": [
    "name_new"
   ]
  },
  {
   "cell_type": "code",
   "execution_count": 105,
   "id": "1339af0d",
   "metadata": {},
   "outputs": [
    {
     "data": {
      "text/plain": [
       "['hair', 'shyam', 'krishna']"
      ]
     },
     "execution_count": 105,
     "metadata": {},
     "output_type": "execute_result"
    }
   ],
   "source": [
    "name"
   ]
  },
  {
   "cell_type": "code",
   "execution_count": 107,
   "id": "06070022",
   "metadata": {},
   "outputs": [],
   "source": [
    "mylist=[3,1,99,1,5,1]"
   ]
  },
  {
   "cell_type": "code",
   "execution_count": 108,
   "id": "124530ad",
   "metadata": {},
   "outputs": [
    {
     "name": "stdout",
     "output_type": "stream",
     "text": [
      "[3, 1, 99, 1, 5, 1]\n"
     ]
    }
   ],
   "source": [
    "print(mylist)"
   ]
  },
  {
   "cell_type": "code",
   "execution_count": 109,
   "id": "ef06ea25",
   "metadata": {},
   "outputs": [],
   "source": [
    "mylist.sort()"
   ]
  },
  {
   "cell_type": "code",
   "execution_count": 110,
   "id": "5773d017",
   "metadata": {},
   "outputs": [
    {
     "name": "stdout",
     "output_type": "stream",
     "text": [
      "[1, 1, 1, 3, 5, 99]\n"
     ]
    }
   ],
   "source": [
    "print(mylist)"
   ]
  },
  {
   "cell_type": "code",
   "execution_count": 112,
   "id": "709641ca",
   "metadata": {},
   "outputs": [],
   "source": [
    "mylist.sort(reverse=True)"
   ]
  },
  {
   "cell_type": "code",
   "execution_count": 114,
   "id": "4e3327c5",
   "metadata": {},
   "outputs": [
    {
     "name": "stdout",
     "output_type": "stream",
     "text": [
      "[99, 5, 3, 1, 1, 1]\n"
     ]
    }
   ],
   "source": [
    "print(mylist)"
   ]
  },
  {
   "cell_type": "code",
   "execution_count": 115,
   "id": "8be72ad6",
   "metadata": {},
   "outputs": [],
   "source": [
    "mylist.reverse()"
   ]
  },
  {
   "cell_type": "code",
   "execution_count": 116,
   "id": "df37efcc",
   "metadata": {},
   "outputs": [
    {
     "name": "stdout",
     "output_type": "stream",
     "text": [
      "[1, 1, 1, 3, 5, 99]\n"
     ]
    }
   ],
   "source": [
    "print(mylist)"
   ]
  },
  {
   "cell_type": "code",
   "execution_count": 117,
   "id": "90e7c90d",
   "metadata": {},
   "outputs": [
    {
     "data": {
      "text/plain": [
       "3"
      ]
     },
     "execution_count": 117,
     "metadata": {},
     "output_type": "execute_result"
    }
   ],
   "source": [
    "mylist.count(1)"
   ]
  },
  {
   "cell_type": "code",
   "execution_count": 118,
   "id": "d8e7dad3",
   "metadata": {},
   "outputs": [
    {
     "data": {
      "text/plain": [
       "0"
      ]
     },
     "execution_count": 118,
     "metadata": {},
     "output_type": "execute_result"
    }
   ],
   "source": [
    "mylist.index(1)"
   ]
  },
  {
   "cell_type": "code",
   "execution_count": 119,
   "id": "c1d1450b",
   "metadata": {},
   "outputs": [],
   "source": [
    "mytuple=(720,1280)"
   ]
  },
  {
   "cell_type": "code",
   "execution_count": 120,
   "id": "0bdc4edb",
   "metadata": {},
   "outputs": [
    {
     "name": "stdout",
     "output_type": "stream",
     "text": [
      "(720, 1280)\n"
     ]
    }
   ],
   "source": [
    "print(mytuple)"
   ]
  },
  {
   "cell_type": "code",
   "execution_count": 121,
   "id": "8a83c9b2",
   "metadata": {},
   "outputs": [
    {
     "data": {
      "text/plain": [
       "tuple"
      ]
     },
     "execution_count": 121,
     "metadata": {},
     "output_type": "execute_result"
    }
   ],
   "source": [
    "type(mytuple)"
   ]
  },
  {
   "cell_type": "code",
   "execution_count": 122,
   "id": "323e83fd",
   "metadata": {},
   "outputs": [
    {
     "data": {
      "text/plain": [
       "720"
      ]
     },
     "execution_count": 122,
     "metadata": {},
     "output_type": "execute_result"
    }
   ],
   "source": [
    "mytuple[0]"
   ]
  },
  {
   "cell_type": "code",
   "execution_count": 123,
   "id": "d196585e",
   "metadata": {},
   "outputs": [
    {
     "data": {
      "text/plain": [
       "1280"
      ]
     },
     "execution_count": 123,
     "metadata": {},
     "output_type": "execute_result"
    }
   ],
   "source": [
    "mytuple[-1]"
   ]
  },
  {
   "cell_type": "code",
   "execution_count": 124,
   "id": "1269ed4c",
   "metadata": {},
   "outputs": [],
   "source": [
    "longtuple=(1,3,6,33,66,0)"
   ]
  },
  {
   "cell_type": "code",
   "execution_count": 125,
   "id": "064a74db",
   "metadata": {},
   "outputs": [
    {
     "name": "stdout",
     "output_type": "stream",
     "text": [
      "(1, 3, 6, 33, 66, 0)\n"
     ]
    }
   ],
   "source": [
    "print(longtuple)"
   ]
  },
  {
   "cell_type": "code",
   "execution_count": 126,
   "id": "681efb09",
   "metadata": {},
   "outputs": [
    {
     "data": {
      "text/plain": [
       "(6, 66)"
      ]
     },
     "execution_count": 126,
     "metadata": {},
     "output_type": "execute_result"
    }
   ],
   "source": [
    "longtuple[2::2]"
   ]
  },
  {
   "cell_type": "code",
   "execution_count": 128,
   "id": "dc2aff20",
   "metadata": {},
   "outputs": [
    {
     "data": {
      "text/plain": [
       "(33, 66)"
      ]
     },
     "execution_count": 128,
     "metadata": {},
     "output_type": "execute_result"
    }
   ],
   "source": [
    "longtuple[3:5]"
   ]
  },
  {
   "cell_type": "code",
   "execution_count": 129,
   "id": "14fb1306",
   "metadata": {},
   "outputs": [
    {
     "ename": "TypeError",
     "evalue": "'tuple' object does not support item assignment",
     "output_type": "error",
     "traceback": [
      "\u001b[31m---------------------------------------------------------------------------\u001b[39m",
      "\u001b[31mTypeError\u001b[39m                                 Traceback (most recent call last)",
      "\u001b[36mCell\u001b[39m\u001b[36m \u001b[39m\u001b[32mIn[129]\u001b[39m\u001b[32m, line 1\u001b[39m\n\u001b[32m----> \u001b[39m\u001b[32m1\u001b[39m \u001b[43mlongtuple\u001b[49m\u001b[43m[\u001b[49m\u001b[32;43m0\u001b[39;49m\u001b[43m]\u001b[49m=\u001b[32m4\u001b[39m\n",
      "\u001b[31mTypeError\u001b[39m: 'tuple' object does not support item assignment"
     ]
    }
   ],
   "source": [
    "longtuple[0]=4"
   ]
  },
  {
   "cell_type": "code",
   "execution_count": 131,
   "id": "3ebec99b",
   "metadata": {},
   "outputs": [
    {
     "data": {
      "text/plain": [
       "[0, 1, 3, 6, 33, 66]"
      ]
     },
     "execution_count": 131,
     "metadata": {},
     "output_type": "execute_result"
    }
   ],
   "source": [
    "sorted(longtuple)"
   ]
  },
  {
   "cell_type": "code",
   "execution_count": 132,
   "id": "8fb99ad5",
   "metadata": {},
   "outputs": [
    {
     "data": {
      "text/plain": [
       "[1, 3, 6, 33, 66, 0]"
      ]
     },
     "execution_count": 132,
     "metadata": {},
     "output_type": "execute_result"
    }
   ],
   "source": [
    "list(longtuple)"
   ]
  },
  {
   "cell_type": "code",
   "execution_count": 133,
   "id": "21e2fadf",
   "metadata": {},
   "outputs": [
    {
     "data": {
      "text/plain": [
       "(1, 1, 1, 3, 5, 99)"
      ]
     },
     "execution_count": 133,
     "metadata": {},
     "output_type": "execute_result"
    }
   ],
   "source": [
    "tuple(mylist)"
   ]
  },
  {
   "cell_type": "code",
   "execution_count": null,
   "id": "fc3d7cc3",
   "metadata": {},
   "outputs": [],
   "source": []
  }
 ],
 "metadata": {
  "kernelspec": {
   "display_name": "myenv",
   "language": "python",
   "name": "python3"
  },
  "language_info": {
   "codemirror_mode": {
    "name": "ipython",
    "version": 3
   },
   "file_extension": ".py",
   "mimetype": "text/x-python",
   "name": "python",
   "nbconvert_exporter": "python",
   "pygments_lexer": "ipython3",
   "version": "3.13.5"
  }
 },
 "nbformat": 4,
 "nbformat_minor": 5
}
