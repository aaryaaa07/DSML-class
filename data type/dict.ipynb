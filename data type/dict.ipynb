{
 "cells": [
  {
   "cell_type": "code",
   "execution_count": 6,
   "id": "cbb125af",
   "metadata": {},
   "outputs": [],
   "source": [
    "person={\n",
    "    \"name\":\"john doe\",\n",
    "    \"age\": 30,\n",
    "    \"subject\":[\"maths\",\"science\"]\n",
    "}"
   ]
  },
  {
   "cell_type": "code",
   "execution_count": 7,
   "id": "904d8bf9",
   "metadata": {},
   "outputs": [],
   "source": [
    "person['city']=\"kathmandu\""
   ]
  },
  {
   "cell_type": "code",
   "execution_count": 8,
   "id": "53345f19",
   "metadata": {},
   "outputs": [
    {
     "data": {
      "text/plain": [
       "dict"
      ]
     },
     "execution_count": 8,
     "metadata": {},
     "output_type": "execute_result"
    }
   ],
   "source": [
    "type(person)"
   ]
  },
  {
   "cell_type": "code",
   "execution_count": 9,
   "id": "06c59747",
   "metadata": {},
   "outputs": [],
   "source": [
    "del person ['age']"
   ]
  },
  {
   "cell_type": "code",
   "execution_count": 10,
   "id": "32f48e75",
   "metadata": {},
   "outputs": [
    {
     "data": {
      "text/plain": [
       "'kathmandu'"
      ]
     },
     "execution_count": 10,
     "metadata": {},
     "output_type": "execute_result"
    }
   ],
   "source": [
    "person.pop('city')"
   ]
  },
  {
   "cell_type": "code",
   "execution_count": 11,
   "id": "f636e850",
   "metadata": {},
   "outputs": [
    {
     "data": {
      "text/plain": [
       "{'name': 'john doe', 'subject': ['maths', 'science']}"
      ]
     },
     "execution_count": 11,
     "metadata": {},
     "output_type": "execute_result"
    }
   ],
   "source": [
    "person"
   ]
  },
  {
   "cell_type": "code",
   "execution_count": 12,
   "id": "8cb30061",
   "metadata": {},
   "outputs": [
    {
     "data": {
      "text/plain": [
       "dict_keys(['name', 'subject'])"
      ]
     },
     "execution_count": 12,
     "metadata": {},
     "output_type": "execute_result"
    }
   ],
   "source": [
    "person.keys()"
   ]
  },
  {
   "cell_type": "code",
   "execution_count": 13,
   "id": "7c7a919f",
   "metadata": {},
   "outputs": [
    {
     "data": {
      "text/plain": [
       "dict_values(['john doe', ['maths', 'science']])"
      ]
     },
     "execution_count": 13,
     "metadata": {},
     "output_type": "execute_result"
    }
   ],
   "source": [
    "person.values()"
   ]
  },
  {
   "cell_type": "code",
   "execution_count": 14,
   "id": "2d72d5b4",
   "metadata": {},
   "outputs": [
    {
     "data": {
      "text/plain": [
       "dict_items([('name', 'john doe'), ('subject', ['maths', 'science'])])"
      ]
     },
     "execution_count": 14,
     "metadata": {},
     "output_type": "execute_result"
    }
   ],
   "source": [
    "person.items()"
   ]
  },
  {
   "cell_type": "code",
   "execution_count": 17,
   "id": "1915f3d1",
   "metadata": {},
   "outputs": [
    {
     "data": {
      "text/plain": [
       "{'name': 'kk', 'subject': ['maths', 'science']}"
      ]
     },
     "execution_count": 17,
     "metadata": {},
     "output_type": "execute_result"
    }
   ],
   "source": [
    "person2 = person.copy()\n",
    "person2['name']=\"kk\"\n",
    "person"
   ]
  },
  {
   "cell_type": "code",
   "execution_count": 18,
   "id": "6c032cc7",
   "metadata": {},
   "outputs": [],
   "source": [
    "dict1={\"name\":\"sam\",\"age\":65}\n",
    "dict2={\"regno\":456,\"subject\":[\"maths\"]}"
   ]
  },
  {
   "cell_type": "code",
   "execution_count": 19,
   "id": "e7d28996",
   "metadata": {},
   "outputs": [
    {
     "data": {
      "text/plain": [
       "{'name': 'sam', 'age': 65, 'regno': 456, 'subject': ['maths']}"
      ]
     },
     "execution_count": 19,
     "metadata": {},
     "output_type": "execute_result"
    }
   ],
   "source": [
    "dict1 | dict2"
   ]
  },
  {
   "cell_type": "code",
   "execution_count": null,
   "id": "97e0c430",
   "metadata": {},
   "outputs": [
    {
     "data": {
      "text/plain": [
       "{'name': 'kk', 'subject': ['maths', 'science']}"
      ]
     },
     "execution_count": 23,
     "metadata": {},
     "output_type": "execute_result"
    }
   ],
   "source": [
    "dict(\n",
    "    sorted(person.items(), key= lambda item: item[0]))"
   ]
  },
  {
   "cell_type": "code",
   "execution_count": null,
   "id": "e4f96982",
   "metadata": {},
   "outputs": [],
   "source": []
  }
 ],
 "metadata": {
  "kernelspec": {
   "display_name": "myenv",
   "language": "python",
   "name": "python3"
  },
  "language_info": {
   "codemirror_mode": {
    "name": "ipython",
    "version": 3
   },
   "file_extension": ".py",
   "mimetype": "text/x-python",
   "name": "python",
   "nbconvert_exporter": "python",
   "pygments_lexer": "ipython3",
   "version": "3.13.5"
  }
 },
 "nbformat": 4,
 "nbformat_minor": 5
}
