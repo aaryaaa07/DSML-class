{
 "cells": [
  {
   "cell_type": "markdown",
   "id": "8607d409",
   "metadata": {},
   "source": [
    "OBJECT ORIENTED PROGRAMMING"
   ]
  },
  {
   "cell_type": "code",
   "execution_count": 110,
   "id": "28e72d90",
   "metadata": {},
   "outputs": [],
   "source": [
    "class Calculator:\n",
    "    def __init__(self, num1, num2):\n",
    "        self.num1=num1\n",
    "        self.num2=num2\n",
    "    \n",
    "    def sum(self):\n",
    "        return self.num1 + self.num2\n",
    "    \n",
    "    "
   ]
  },
  {
   "cell_type": "code",
   "execution_count": 111,
   "id": "48c8c84b",
   "metadata": {},
   "outputs": [],
   "source": [
    "cal_obj = Calculator(10,4)"
   ]
  },
  {
   "cell_type": "code",
   "execution_count": 112,
   "id": "1dc3c904",
   "metadata": {},
   "outputs": [
    {
     "data": {
      "text/plain": [
       "__main__.Calculator"
      ]
     },
     "execution_count": 112,
     "metadata": {},
     "output_type": "execute_result"
    }
   ],
   "source": [
    "type (cal_obj)"
   ]
  },
  {
   "cell_type": "code",
   "execution_count": 113,
   "id": "794daa97",
   "metadata": {},
   "outputs": [
    {
     "data": {
      "text/plain": [
       "14"
      ]
     },
     "execution_count": 113,
     "metadata": {},
     "output_type": "execute_result"
    }
   ],
   "source": [
    "cal_obj.sum()"
   ]
  },
  {
   "cell_type": "code",
   "execution_count": 114,
   "id": "86460ffe",
   "metadata": {},
   "outputs": [
    {
     "data": {
      "text/plain": [
       "62"
      ]
     },
     "execution_count": 114,
     "metadata": {},
     "output_type": "execute_result"
    }
   ],
   "source": [
    "cal_obj2 = Calculator(55,7)\n",
    "cal_obj2.sum()"
   ]
  },
  {
   "cell_type": "code",
   "execution_count": 115,
   "id": "6d0dee05",
   "metadata": {},
   "outputs": [],
   "source": [
    "class Calculator:\n",
    "    def __init__(self, num1, num2):\n",
    "        self.num1=num1\n",
    "        self.num2=num2\n",
    "    \n",
    "    def p(self):\n",
    "        return self.num1 * self.num2"
   ]
  },
  {
   "cell_type": "code",
   "execution_count": 116,
   "id": "20b6601b",
   "metadata": {},
   "outputs": [],
   "source": [
    "class person:\n",
    "    count = 0 #<class attribute\n",
    "\n",
    "    def __init__(self, name: str, address:str = \"Kathmandu\"): #<constructor / initializer\n",
    "        \"\"\"\n",
    "        creating a person class\n",
    "        \"\"\"\n",
    "        self.name = name\n",
    "        self.address = address\n",
    "\n",
    "        person.count += 1\n",
    "        \n",
    "    def get_details(self): #instance method\n",
    "       print(f\"I am {self.name} from {self.address}\")\n",
    "\n",
    "    @classmethod\n",
    "    def get_counted(cls): #< class method\n",
    "       return cls.count\n",
    "    @staticmethod\n",
    "    def create_fullname(firstname, lastname): #< statis methods\n",
    "       return f\"{lastname},{firstname}\"\n",
    "\n"
   ]
  },
  {
   "cell_type": "code",
   "execution_count": 117,
   "id": "04d29c50",
   "metadata": {},
   "outputs": [],
   "source": [
    "student1 = person(\"yang\")"
   ]
  },
  {
   "cell_type": "code",
   "execution_count": 118,
   "id": "77680139",
   "metadata": {},
   "outputs": [],
   "source": [
    "student2 =person(\"reason\",\"jhapa\")"
   ]
  },
  {
   "cell_type": "code",
   "execution_count": 119,
   "id": "95c5fbc2",
   "metadata": {},
   "outputs": [
    {
     "name": "stdout",
     "output_type": "stream",
     "text": [
      "I am yang from Kathmandu\n"
     ]
    }
   ],
   "source": [
    "student1.get_details()"
   ]
  },
  {
   "cell_type": "code",
   "execution_count": 120,
   "id": "68fe3bc1",
   "metadata": {},
   "outputs": [
    {
     "ename": "NameError",
     "evalue": "name 'self' is not defined",
     "output_type": "error",
     "traceback": [
      "\u001b[31m---------------------------------------------------------------------------\u001b[39m",
      "\u001b[31mNameError\u001b[39m                                 Traceback (most recent call last)",
      "\u001b[36mCell\u001b[39m\u001b[36m \u001b[39m\u001b[32mIn[120]\u001b[39m\u001b[32m, line 1\u001b[39m\n\u001b[32m----> \u001b[39m\u001b[32m1\u001b[39m \u001b[38;5;28;43mself\u001b[39;49m.books = [\n\u001b[32m      2\u001b[39m             (\u001b[33m\"\u001b[39m\u001b[33mThe Alchemist\u001b[39m\u001b[33m\"\u001b[39m, \u001b[32m25\u001b[39m),\n\u001b[32m      3\u001b[39m             (\u001b[33m\"\u001b[39m\u001b[33mThe Da Vinci Code\u001b[39m\u001b[33m\"\u001b[39m, \u001b[32m30\u001b[39m),\n\u001b[32m      4\u001b[39m             (\u001b[33m\"\u001b[39m\u001b[33mA Brief History of Time\u001b[39m\u001b[33m\"\u001b[39m, \u001b[32m15\u001b[39m),\n\u001b[32m      5\u001b[39m             (\u001b[33m\"\u001b[39m\u001b[33mAngels & Demons\u001b[39m\u001b[33m\"\u001b[39m, \u001b[32m0\u001b[39m),\n\u001b[32m      6\u001b[39m             (\u001b[33m\"\u001b[39m\u001b[33mThe Grand Design\u001b[39m\u001b[33m\"\u001b[39m, \u001b[32m0\u001b[39m),\n\u001b[32m      7\u001b[39m             (\u001b[33m\"\u001b[39m\u001b[33m1984\u001b[39m\u001b[33m\"\u001b[39m, \u001b[32m19\u001b[39m)\n\u001b[32m      8\u001b[39m         ]\n",
      "\u001b[31mNameError\u001b[39m: name 'self' is not defined"
     ]
    }
   ],
   "source": [
    "self.books = [\n",
    "            (\"The Alchemist\", 25),\n",
    "            (\"The Da Vinci Code\", 30),\n",
    "            (\"A Brief History of Time\", 15),\n",
    "            (\"Angels & Demons\", 0),\n",
    "            (\"The Grand Design\", 0),\n",
    "            (\"1984\", 19)\n",
    "        ]"
   ]
  },
  {
   "cell_type": "code",
   "execution_count": 132,
   "id": "87ab9e28",
   "metadata": {},
   "outputs": [],
   "source": [
    "class library:\n",
    "\n",
    "    def __init__(self, name: str, department: str = \"science\"):\n",
    "        self.name = name\n",
    "        self.department = department\n",
    "        self.books_name=[\n",
    "            (\"The Alchemist\", 25),\n",
    "            (\"The Da Vinci Code\", 30),\n",
    "            (\"A Brief History of Time\", 15),\n",
    "            (\"Angels & Demons\", 0),\n",
    "            (\"The Grand Design\", 0),\n",
    "            (\"1984\", 19)\n",
    "             ]\n",
    "        \n",
    "    \n",
    "    def can_borrow(self,books_name):\n",
    "        books_name=books_name.lower()\n",
    "        status = [name for self.name, amount in self.books if name.lower() == books_name and amount>0]\n",
    "        #for name, amount in self.books:\n",
    "            #if name.lower() == books_name and amount>0:\n",
    "        return \"Can borrow\" if status else \"cant borrow\""
   ]
  },
  {
   "cell_type": "code",
   "execution_count": null,
   "id": "cc6a60ac",
   "metadata": {},
   "outputs": [],
   "source": [
    "student1=library(\"aarya\",\"science\")"
   ]
  },
  {
   "cell_type": "code",
   "execution_count": 128,
   "id": "84b3b01c",
   "metadata": {},
   "outputs": [
    {
     "ename": "AttributeError",
     "evalue": "'person' object has no attribute 'can_borrow'",
     "output_type": "error",
     "traceback": [
      "\u001b[31m---------------------------------------------------------------------------\u001b[39m",
      "\u001b[31mAttributeError\u001b[39m                            Traceback (most recent call last)",
      "\u001b[36mCell\u001b[39m\u001b[36m \u001b[39m\u001b[32mIn[128]\u001b[39m\u001b[32m, line 1\u001b[39m\n\u001b[32m----> \u001b[39m\u001b[32m1\u001b[39m \u001b[43mstudent1\u001b[49m\u001b[43m.\u001b[49m\u001b[43mcan_borrow\u001b[49m(\u001b[33m\"\u001b[39m\u001b[33mThe Alchemist\u001b[39m\u001b[33m\"\u001b[39m)\n",
      "\u001b[31mAttributeError\u001b[39m: 'person' object has no attribute 'can_borrow'"
     ]
    }
   ],
   "source": [
    "student1.can_borrow(\"The Alchemist\")"
   ]
  },
  {
   "cell_type": "code",
   "execution_count": 123,
   "id": "38a1b3d2",
   "metadata": {},
   "outputs": [],
   "source": [
    "class StudentResult:\n",
    "    def __init__(self, name: str, marks: list):\n",
    "        self.name = name\n",
    "        self.marks = marks\n",
    "\n",
    "    def total(self):\n",
    "        return sum(self.marks)\n",
    "\n",
    "    def average(self):\n",
    "        return self.total() / len(self.marks)\n",
    "\n",
    "    def display(self):\n",
    "        print(f\"Student Name: {self.name}\")\n",
    "        print(f\"Marks: {', '.join(map(str, self.marks))}\")\n",
    "        print(f\"Total Marks: {self.total()}\")\n",
    "        print(f\"Average Marks: {self.average()}\")\n",
    "\n"
   ]
  },
  {
   "cell_type": "code",
   "execution_count": 124,
   "id": "37298bd9",
   "metadata": {},
   "outputs": [
    {
     "name": "stdout",
     "output_type": "stream",
     "text": [
      "Student Name: Aarya\n",
      "Marks: 88, 76, 91\n",
      "Total Marks: 255\n",
      "Average Marks: 85.0\n"
     ]
    }
   ],
   "source": [
    "student = StudentResult(\"Aarya\", [88, 76, 91])\n",
    "student.display()"
   ]
  },
  {
   "cell_type": "code",
   "execution_count": null,
   "id": "a591d878",
   "metadata": {},
   "outputs": [],
   "source": []
  }
 ],
 "metadata": {
  "kernelspec": {
   "display_name": "myenv",
   "language": "python",
   "name": "python3"
  },
  "language_info": {
   "codemirror_mode": {
    "name": "ipython",
    "version": 3
   },
   "file_extension": ".py",
   "mimetype": "text/x-python",
   "name": "python",
   "nbconvert_exporter": "python",
   "pygments_lexer": "ipython3",
   "version": "3.13.5"
  }
 },
 "nbformat": 4,
 "nbformat_minor": 5
}
