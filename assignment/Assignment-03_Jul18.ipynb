{
 "cells": [
  {
   "cell_type": "markdown",
   "id": "119ef6a9",
   "metadata": {},
   "source": [
    "### Math Tutor Using Random, Arithmetic Operators, and OOP\n",
    "\n",
    "*Scenario:*\n",
    "Create a `MathTutor` class that generates random math questions using `random` and `math operators`.\n",
    "\n",
    "* Track correct and incorrect answers.\n",
    "* Provide a score at the end.\n",
    "* Handle invalid input using exception handling.\n",
    "\n",
    "> Concepts: Random, Math, Exception Handling, Classes"
   ]
  },
  {
   "cell_type": "code",
   "execution_count": 2,
   "id": "77dc396f",
   "metadata": {},
   "outputs": [
    {
     "name": "stdout",
     "output_type": "stream",
     "text": [
      " Welcome to Math Tutor!\n",
      " Correct!\n",
      " Correct!\n",
      " Correct!\n",
      " Correct!\n",
      " Correct!\n",
      "\n",
      " Quiz Completed!\n",
      "Correct Answers: 5\n",
      "Incorrect Answers: 0\n",
      "Your Score: 100.00%\n"
     ]
    }
   ],
   "source": [
    "# Your Solution Here\n",
    "import random\n",
    "\n",
    "class MathTutor:\n",
    "    def __init__(self, num_questions=5):\n",
    "        self.num_questions = num_questions\n",
    "        self.correct = 0\n",
    "        self.incorrect = 0\n",
    "        self.operators = ['+', '-', '*', '/']\n",
    "\n",
    "    def generate_question(self):\n",
    "        num1 = random.randint(1, 10)\n",
    "        num2 = random.randint(1, 10)\n",
    "        op = random.choice(self.operators)\n",
    "\n",
    "        if op == '/':\n",
    "            num1 = num1 * num2 \n",
    "\n",
    "        question = f\"{num1} {op} {num2}\"\n",
    "        answer = eval(question) \n",
    "        return question, round(answer, 2)\n",
    "\n",
    "    def ask_question(self):\n",
    "        for i in range(1, self.num_questions + 1):\n",
    "            question, answer = self.generate_question()\n",
    "            try:\n",
    "                user_input = input(f\"Q{i}: What is {question}? \")\n",
    "                user_answer = float(user_input)\n",
    "                if round(user_answer, 2) == answer:\n",
    "                    print(\" Correct!\")\n",
    "                    self.correct += 1\n",
    "                else:\n",
    "                    print(f\" Incorrect. The right answer is {answer}\")\n",
    "                    self.incorrect += 1\n",
    "            except ValueError:\n",
    "                print(\" Invalid input. Please enter a number.\")\n",
    "                self.incorrect += 1\n",
    "\n",
    "    def show_score(self):\n",
    "        print(\"\\n Quiz Completed!\")\n",
    "        print(f\"Correct Answers: {self.correct}\")\n",
    "        print(f\"Incorrect Answers: {self.incorrect}\")\n",
    "        score_percent = (self.correct / self.num_questions) * 100\n",
    "        print(f\"Your Score: {score_percent:.2f}%\")\n",
    "\n",
    "    def start(self):\n",
    "        print(\" Welcome to Math Tutor!\")\n",
    "        self.ask_question()\n",
    "        self.show_score()\n",
    "\n",
    "\n",
    "# Run \n",
    "if __name__ == \"__main__\":\n",
    "    tutor = MathTutor(num_questions=5)\n",
    "    tutor.start()\n"
   ]
  },
  {
   "cell_type": "markdown",
   "id": "360b4034",
   "metadata": {},
   "source": [
    "### Multi-file Project Using Modules and Packages\n",
    "\n",
    "*Scenario:*\n",
    "You're building a small finance app.\n",
    "\n",
    "* Create a package `finance_tools` with modules: `tax.py` and `loan.py`.\n",
    "* Each module contains utility functions like `calculate_tax()` and `calculate_emi()`.\n",
    "* Import and use them in a main script that takes user input to do both.\n",
    "\n",
    "> Concepts: Packages, Modules, Importing, Separation of Concerns\n"
   ]
  },
  {
   "cell_type": "markdown",
   "id": "1ecd8aa7",
   "metadata": {},
   "source": [
    "### Exception Handling Scenario: Online Age-Restricted Service\n",
    "\n",
    "**Scenario:**\n",
    "You’re building a sign-up system for an online movie rental platform. Some movies are age-restricted (18+). You need to ensure proper validation and error handling during user registration.\n",
    "\n",
    "**Task:**\n",
    "\n",
    "1. Create a custom exception class called `UnderageError` that inherits from `Exception`.\n",
    "2. Write a function `register_user()` that:\n",
    "\n",
    "   * Takes a user’s `name` and `age` as input.\n",
    "   * Raises `UnderageError` if the user is under 18.\n",
    "   * Otherwise, prints a welcome message.\n",
    "3. Wrap the function call in a `try` block and handle the exception.\n",
    "4. Use `else` to confirm successful registration and `finally` to always print **“Thank you for using MovieTime!”** regardless of outcome.\n",
    "\n",
    "Also try to validate if the age input is numeric. Raise a `ValueError` if not, and handle it separately.\n",
    "\n"
   ]
  },
  {
   "cell_type": "code",
   "execution_count": 3,
   "id": "3fd54170",
   "metadata": {},
   "outputs": [],
   "source": [
    "# Your Solution Here"
   ]
  },
  {
   "cell_type": "markdown",
   "id": "7e76d9b4",
   "metadata": {},
   "source": [
    "# Problem Statement\n",
    "\n",
    "We want to build an online shopping cart system that allows users to add products to their cart, calculate the total cost, apply discounts, and generate an invoice. The system should include the following functionalities:\n",
    "\n",
    "- Adding products to the cart\n",
    "- Removing products from the cart\n",
    "- Calculating the total cost\n",
    "- Applying discounts based on user type\n",
    "- Generating an invoice\n",
    "\n",
    "### 1. Create the Product class\n",
    "\n",
    "We create a basic `Product` class with attributes for the product name and price."
   ]
  },
  {
   "cell_type": "code",
   "execution_count": 4,
   "id": "a286f01a",
   "metadata": {},
   "outputs": [],
   "source": [
    "# Your Solution Here"
   ]
  },
  {
   "cell_type": "markdown",
   "id": "0c9aa397",
   "metadata": {},
   "source": [
    "### 2.  Implement the User class\n",
    "\n",
    "In this step, we create a `User` class with attributes for the user's name and whether they are a premium member."
   ]
  },
  {
   "cell_type": "code",
   "execution_count": 5,
   "id": "3393e953",
   "metadata": {},
   "outputs": [],
   "source": [
    "# Your Solution Here"
   ]
  },
  {
   "cell_type": "markdown",
   "id": "3b7e070b",
   "metadata": {},
   "source": [
    "### 3. Create the ShoppingCart class\n",
    "\n",
    "In this step, we create a `ShoppingCart` class with methods for adding and removing products from the cart, as well as calculating the total cost of the items in the cart.\n",
    "\n",
    "**Note**: Define `calculate_total_cost` method in the `ShoppingCart` class, that applies a `10%` discount to the total cost if you are `premium` User."
   ]
  },
  {
   "cell_type": "code",
   "execution_count": 6,
   "id": "c0b5196d",
   "metadata": {},
   "outputs": [],
   "source": [
    "# Your Solution Here"
   ]
  },
  {
   "cell_type": "markdown",
   "id": "afc26053",
   "metadata": {},
   "source": [
    "### 4. Testing the functionality\n",
    "\n",
    "Now that we have implemented the necessary classes and methods, let's test our online shopping cart system:"
   ]
  },
  {
   "cell_type": "code",
   "execution_count": 7,
   "id": "6186bdcb",
   "metadata": {},
   "outputs": [],
   "source": [
    "# Your Solution Here"
   ]
  },
  {
   "cell_type": "markdown",
   "id": "7ea7c96e",
   "metadata": {},
   "source": [
    "### 5. Generating Invoice for a given cart"
   ]
  },
  {
   "cell_type": "code",
   "execution_count": 8,
   "id": "c727607d-74ed-4609-bc88-3a14049c162f",
   "metadata": {},
   "outputs": [],
   "source": [
    "# Your Solution Here"
   ]
  },
  {
   "cell_type": "code",
   "execution_count": null,
   "id": "59e0bc19-36f6-4f4f-9d96-994e0dc19b59",
   "metadata": {},
   "outputs": [],
   "source": []
  }
 ],
 "metadata": {
  "kernelspec": {
   "display_name": "Python 3",
   "language": "python",
   "name": "python3"
  },
  "language_info": {
   "codemirror_mode": {
    "name": "ipython",
    "version": 3
   },
   "file_extension": ".py",
   "mimetype": "text/x-python",
   "name": "python",
   "nbconvert_exporter": "python",
   "pygments_lexer": "ipython3",
   "version": "3.13.5"
  }
 },
 "nbformat": 4,
 "nbformat_minor": 5
}
